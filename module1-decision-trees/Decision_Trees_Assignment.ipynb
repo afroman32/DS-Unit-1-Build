{
  "nbformat": 4,
  "nbformat_minor": 0,
  "metadata": {
    "kernelspec": {
      "display_name": "Python 3",
      "language": "python",
      "name": "python3"
    },
    "language_info": {
      "codemirror_mode": {
        "name": "ipython",
        "version": 3
      },
      "file_extension": ".py",
      "mimetype": "text/x-python",
      "name": "python",
      "nbconvert_exporter": "python",
      "pygments_lexer": "ipython3",
      "version": "3.7.6"
    },
    "colab": {
      "name": "Decision Trees Assignment.ipynb",
      "provenance": [],
      "collapsed_sections": [],
      "include_colab_link": true
    }
  },
  "cells": [
    {
      "cell_type": "markdown",
      "metadata": {
        "id": "view-in-github",
        "colab_type": "text"
      },
      "source": [
        "<a href=\"https://colab.research.google.com/github/afroman32/DS-Unit-1-Build/blob/master/module1-decision-trees/Decision_Trees_Assignment.ipynb\" target=\"_parent\"><img src=\"https://colab.research.google.com/assets/colab-badge.svg\" alt=\"Open In Colab\"/></a>"
      ]
    },
    {
      "cell_type": "markdown",
      "metadata": {
        "id": "8KVk_Fc7DsPM",
        "colab_type": "text"
      },
      "source": [
        "Lambda School Data Science\n",
        "\n",
        "*Unit 2, Sprint 2, Module 1*\n",
        "\n",
        "---"
      ]
    },
    {
      "cell_type": "markdown",
      "metadata": {
        "colab_type": "text",
        "id": "7IXUfiQ2UKj6"
      },
      "source": [
        "# Decision Trees\n",
        "\n",
        "## Assignment\n",
        "- [ ] [Sign up for a Kaggle account](https://www.kaggle.com/), if you don’t already have one. Go to our Kaggle InClass competition website. You will be given the URL in Slack. Go to the Rules page. Accept the rules of the competition. Notice that the Rules page also has instructions for the Submission process. The Data page has feature definitions.\n",
        "- [ ] Do train/validate/test split with the Tanzania Waterpumps data.\n",
        "- [ ] Begin with baselines for classification.\n",
        "- [ ] Select features. Use a scikit-learn pipeline to encode categoricals, impute missing values, and fit a decision tree classifier.\n",
        "- [ ] Get your validation accuracy score.\n",
        "- [ ] Get and plot your feature importances.\n",
        "- [ ] Submit your predictions to our Kaggle competition. (Go to our Kaggle InClass competition webpage. Use the blue **Submit Predictions** button to upload your CSV file. Or you can use the Kaggle API to submit your predictions.)\n",
        "- [ ] Commit your notebook to your fork of the GitHub repo.\n",
        "\n",
        "\n",
        "## Stretch Goals\n",
        "\n",
        "### Reading\n",
        "\n",
        "- A Visual Introduction to Machine Learning\n",
        "  - [Part 1: A Decision Tree](http://www.r2d3.us/visual-intro-to-machine-learning-part-1/)\n",
        "  - [Part 2: Bias and Variance](http://www.r2d3.us/visual-intro-to-machine-learning-part-2/)\n",
        "- [Decision Trees: Advantages & Disadvantages](https://christophm.github.io/interpretable-ml-book/tree.html#advantages-2)\n",
        "- [How a Russian mathematician constructed a decision tree — by hand — to solve a medical problem](http://fastml.com/how-a-russian-mathematician-constructed-a-decision-tree-by-hand-to-solve-a-medical-problem/)\n",
        "- [How decision trees work](https://brohrer.github.io/how_decision_trees_work.html)\n",
        "- [Let’s Write a Decision Tree Classifier from Scratch](https://www.youtube.com/watch?v=LDRbO9a6XPU) — _Don’t worry about understanding the code, just get introduced to the concepts. This 10 minute video has excellent diagrams and explanations._\n",
        "- [Random Forests for Complete Beginners: The definitive guide to Random Forests and Decision Trees](https://victorzhou.com/blog/intro-to-random-forests/)\n",
        "\n",
        "\n",
        "### Doing\n",
        "- [ ] Add your own stretch goal(s) !\n",
        "- [ ] Define a function to wrangle train, validate, and test sets in the same way. Clean outliers and engineer features. (For example, [what columns have zeros and shouldn't?](https://github.com/Quartz/bad-data-guide#zeros-replace-missing-values) What columns are duplicates, or nearly duplicates? Can you extract the year from date_recorded? Can you engineer new features, such as the number of years from waterpump construction to waterpump inspection?)\n",
        "- [ ] Try other [scikit-learn imputers](https://scikit-learn.org/stable/modules/impute.html).\n",
        "- [ ] Make exploratory visualizations and share on Slack.\n",
        "\n",
        "\n",
        "#### Exploratory visualizations\n",
        "\n",
        "Visualize the relationships between feature(s) and target. I recommend you do this with your training set, after splitting your data. \n",
        "\n",
        "For this problem, you may want to create a new column to represent the target as a number, 0 or 1. For example:\n",
        "\n",
        "```python\n",
        "train['functional'] = (train['status_group']=='functional').astype(int)\n",
        "```\n",
        "\n",
        "\n",
        "\n",
        "You can try [Seaborn \"Categorical estimate\" plots](https://seaborn.pydata.org/tutorial/categorical.html) for features with reasonably few unique values. (With too many unique values, the plot is unreadable.)\n",
        "\n",
        "- Categorical features. (If there are too many unique values, you can replace less frequent values with \"OTHER.\")\n",
        "- Numeric features. (If there are too many unique values, you can [bin with pandas cut / qcut functions](https://pandas.pydata.org/pandas-docs/stable/getting_started/basics.html?highlight=qcut#discretization-and-quantiling).)\n",
        "\n",
        "You can try [Seaborn linear model plots](https://seaborn.pydata.org/tutorial/regression.html) with numeric features. For this classification problem, you may want to use the parameter `logistic=True`, but it can be slow.\n",
        "\n",
        "You do _not_ need to use Seaborn, but it's nice because it includes confidence intervals to visualize uncertainty.\n",
        "\n",
        "#### High-cardinality categoricals\n",
        "\n",
        "This code from a previous assignment demonstrates how to replace less frequent values with 'OTHER'\n",
        "\n",
        "```python\n",
        "# Reduce cardinality for NEIGHBORHOOD feature ...\n",
        "\n",
        "# Get a list of the top 10 neighborhoods\n",
        "top10 = train['NEIGHBORHOOD'].value_counts()[:10].index\n",
        "\n",
        "# At locations where the neighborhood is NOT in the top 10,\n",
        "# replace the neighborhood with 'OTHER'\n",
        "train.loc[~train['NEIGHBORHOOD'].isin(top10), 'NEIGHBORHOOD'] = 'OTHER'\n",
        "test.loc[~test['NEIGHBORHOOD'].isin(top10), 'NEIGHBORHOOD'] = 'OTHER'\n",
        "```\n"
      ]
    },
    {
      "cell_type": "markdown",
      "metadata": {
        "id": "SKFv_Bg8Ik_r",
        "colab_type": "text"
      },
      "source": [
        "##**Load Data**"
      ]
    },
    {
      "cell_type": "code",
      "metadata": {
        "colab_type": "code",
        "id": "o9eSnDYhUGD7",
        "colab": {
          "base_uri": "https://localhost:8080/",
          "height": 1000
        },
        "outputId": "e5500255-7745-4be7-859a-dc30b24d08cd"
      },
      "source": [
        "import sys\n",
        "\n",
        "# If you're on Colab:\n",
        "if 'google.colab' in sys.modules:\n",
        "    DATA_PATH = 'https://raw.githubusercontent.com/LambdaSchool/DS-Unit-2-Kaggle-Challenge/master/data/'\n",
        "    !pip install category_encoders==2.*\n",
        "    !pip install pandas-profiling==2.*\n",
        "\n",
        "# If you're working locally:\n",
        "else:\n",
        "    DATA_PATH = '../data/'"
      ],
      "execution_count": 1,
      "outputs": [
        {
          "output_type": "stream",
          "text": [
            "Collecting category_encoders==2.*\n",
            "\u001b[?25l  Downloading https://files.pythonhosted.org/packages/a0/52/c54191ad3782de633ea3d6ee3bb2837bda0cf3bc97644bb6375cf14150a0/category_encoders-2.1.0-py2.py3-none-any.whl (100kB)\n",
            "\r\u001b[K     |███▎                            | 10kB 13.9MB/s eta 0:00:01\r\u001b[K     |██████▌                         | 20kB 3.3MB/s eta 0:00:01\r\u001b[K     |█████████▉                      | 30kB 4.1MB/s eta 0:00:01\r\u001b[K     |█████████████                   | 40kB 3.1MB/s eta 0:00:01\r\u001b[K     |████████████████▍               | 51kB 3.4MB/s eta 0:00:01\r\u001b[K     |███████████████████▋            | 61kB 4.1MB/s eta 0:00:01\r\u001b[K     |██████████████████████▉         | 71kB 4.4MB/s eta 0:00:01\r\u001b[K     |██████████████████████████▏     | 81kB 4.5MB/s eta 0:00:01\r\u001b[K     |█████████████████████████████▍  | 92kB 5.0MB/s eta 0:00:01\r\u001b[K     |████████████████████████████████| 102kB 3.6MB/s \n",
            "\u001b[?25hRequirement already satisfied: scikit-learn>=0.20.0 in /usr/local/lib/python3.6/dist-packages (from category_encoders==2.*) (0.22.1)\n",
            "Requirement already satisfied: pandas>=0.21.1 in /usr/local/lib/python3.6/dist-packages (from category_encoders==2.*) (0.25.3)\n",
            "Requirement already satisfied: patsy>=0.4.1 in /usr/local/lib/python3.6/dist-packages (from category_encoders==2.*) (0.5.1)\n",
            "Requirement already satisfied: numpy>=1.11.3 in /usr/local/lib/python3.6/dist-packages (from category_encoders==2.*) (1.17.5)\n",
            "Requirement already satisfied: statsmodels>=0.6.1 in /usr/local/lib/python3.6/dist-packages (from category_encoders==2.*) (0.10.2)\n",
            "Requirement already satisfied: scipy>=0.19.0 in /usr/local/lib/python3.6/dist-packages (from category_encoders==2.*) (1.4.1)\n",
            "Requirement already satisfied: joblib>=0.11 in /usr/local/lib/python3.6/dist-packages (from scikit-learn>=0.20.0->category_encoders==2.*) (0.14.1)\n",
            "Requirement already satisfied: python-dateutil>=2.6.1 in /usr/local/lib/python3.6/dist-packages (from pandas>=0.21.1->category_encoders==2.*) (2.6.1)\n",
            "Requirement already satisfied: pytz>=2017.2 in /usr/local/lib/python3.6/dist-packages (from pandas>=0.21.1->category_encoders==2.*) (2018.9)\n",
            "Requirement already satisfied: six in /usr/local/lib/python3.6/dist-packages (from patsy>=0.4.1->category_encoders==2.*) (1.12.0)\n",
            "Installing collected packages: category-encoders\n",
            "Successfully installed category-encoders-2.1.0\n",
            "Collecting pandas-profiling==2.*\n",
            "\u001b[?25l  Downloading https://files.pythonhosted.org/packages/1d/08/1f614fb2d31b59cd69896b900044c8d7119389b9151983a872d047ea021f/pandas-profiling-2.4.0.tar.gz (150kB)\n",
            "\u001b[K     |████████████████████████████████| 153kB 5.0MB/s \n",
            "\u001b[?25hRequirement already satisfied: pandas>=0.19 in /usr/local/lib/python3.6/dist-packages (from pandas-profiling==2.*) (0.25.3)\n",
            "Requirement already satisfied: matplotlib>=1.4 in /usr/local/lib/python3.6/dist-packages (from pandas-profiling==2.*) (3.1.2)\n",
            "Collecting confuse>=1.0.0\n",
            "  Downloading https://files.pythonhosted.org/packages/4c/6f/90e860cba937c174d8b3775729ccc6377eb91f52ad4eeb008e7252a3646d/confuse-1.0.0.tar.gz\n",
            "Requirement already satisfied: jinja2>=2.8 in /usr/local/lib/python3.6/dist-packages (from pandas-profiling==2.*) (2.10.3)\n",
            "Collecting htmlmin>=0.1.12\n",
            "  Downloading https://files.pythonhosted.org/packages/b3/e7/fcd59e12169de19f0131ff2812077f964c6b960e7c09804d30a7bf2ab461/htmlmin-0.1.12.tar.gz\n",
            "Requirement already satisfied: missingno>=0.4.2 in /usr/local/lib/python3.6/dist-packages (from pandas-profiling==2.*) (0.4.2)\n",
            "Collecting phik>=0.9.8\n",
            "\u001b[?25l  Downloading https://files.pythonhosted.org/packages/03/cf/b8cef2778104dc5d319f36dd836efaceb07a037cbf63f27c966b5a193ce9/phik-0.9.9-py3-none-any.whl (607kB)\n",
            "\u001b[K     |████████████████████████████████| 614kB 42.1MB/s \n",
            "\u001b[?25hRequirement already satisfied: astropy in /usr/local/lib/python3.6/dist-packages (from pandas-profiling==2.*) (4.0)\n",
            "Requirement already satisfied: python-dateutil>=2.6.1 in /usr/local/lib/python3.6/dist-packages (from pandas>=0.19->pandas-profiling==2.*) (2.6.1)\n",
            "Requirement already satisfied: pytz>=2017.2 in /usr/local/lib/python3.6/dist-packages (from pandas>=0.19->pandas-profiling==2.*) (2018.9)\n",
            "Requirement already satisfied: numpy>=1.13.3 in /usr/local/lib/python3.6/dist-packages (from pandas>=0.19->pandas-profiling==2.*) (1.17.5)\n",
            "Requirement already satisfied: cycler>=0.10 in /usr/local/lib/python3.6/dist-packages (from matplotlib>=1.4->pandas-profiling==2.*) (0.10.0)\n",
            "Requirement already satisfied: kiwisolver>=1.0.1 in /usr/local/lib/python3.6/dist-packages (from matplotlib>=1.4->pandas-profiling==2.*) (1.1.0)\n",
            "Requirement already satisfied: pyparsing!=2.0.4,!=2.1.2,!=2.1.6,>=2.0.1 in /usr/local/lib/python3.6/dist-packages (from matplotlib>=1.4->pandas-profiling==2.*) (2.4.6)\n",
            "Requirement already satisfied: pyyaml in /usr/local/lib/python3.6/dist-packages (from confuse>=1.0.0->pandas-profiling==2.*) (3.13)\n",
            "Requirement already satisfied: MarkupSafe>=0.23 in /usr/local/lib/python3.6/dist-packages (from jinja2>=2.8->pandas-profiling==2.*) (1.1.1)\n",
            "Requirement already satisfied: scipy in /usr/local/lib/python3.6/dist-packages (from missingno>=0.4.2->pandas-profiling==2.*) (1.4.1)\n",
            "Requirement already satisfied: seaborn in /usr/local/lib/python3.6/dist-packages (from missingno>=0.4.2->pandas-profiling==2.*) (0.9.0)\n",
            "Collecting pytest>=4.0.2\n",
            "\u001b[?25l  Downloading https://files.pythonhosted.org/packages/a5/c0/34033b2df7718b91c667bd259d5ce632ec3720198b7068c0ba6f6104ff89/pytest-5.3.5-py3-none-any.whl (235kB)\n",
            "\u001b[K     |████████████████████████████████| 235kB 41.9MB/s \n",
            "\u001b[?25hRequirement already satisfied: numba>=0.38.1 in /usr/local/lib/python3.6/dist-packages (from phik>=0.9.8->pandas-profiling==2.*) (0.47.0)\n",
            "Requirement already satisfied: joblib>=0.14.1 in /usr/local/lib/python3.6/dist-packages (from phik>=0.9.8->pandas-profiling==2.*) (0.14.1)\n",
            "Requirement already satisfied: jupyter-client>=5.2.3 in /usr/local/lib/python3.6/dist-packages (from phik>=0.9.8->pandas-profiling==2.*) (5.3.4)\n",
            "Collecting pytest-pylint>=0.13.0\n",
            "  Downloading https://files.pythonhosted.org/packages/64/dc/6f35f114844fb12e38d60c4f3d2441a55baff7043ad4e013777dff55746c/pytest_pylint-0.14.1-py3-none-any.whl\n",
            "Requirement already satisfied: nbconvert>=5.3.1 in /usr/local/lib/python3.6/dist-packages (from phik>=0.9.8->pandas-profiling==2.*) (5.6.1)\n",
            "Requirement already satisfied: six>=1.5 in /usr/local/lib/python3.6/dist-packages (from python-dateutil>=2.6.1->pandas>=0.19->pandas-profiling==2.*) (1.12.0)\n",
            "Requirement already satisfied: setuptools in /usr/local/lib/python3.6/dist-packages (from kiwisolver>=1.0.1->matplotlib>=1.4->pandas-profiling==2.*) (42.0.2)\n",
            "Requirement already satisfied: py>=1.5.0 in /usr/local/lib/python3.6/dist-packages (from pytest>=4.0.2->phik>=0.9.8->pandas-profiling==2.*) (1.8.1)\n",
            "Requirement already satisfied: wcwidth in /usr/local/lib/python3.6/dist-packages (from pytest>=4.0.2->phik>=0.9.8->pandas-profiling==2.*) (0.1.8)\n",
            "Collecting pluggy<1.0,>=0.12\n",
            "  Downloading https://files.pythonhosted.org/packages/a0/28/85c7aa31b80d150b772fbe4a229487bc6644da9ccb7e427dd8cc60cb8a62/pluggy-0.13.1-py2.py3-none-any.whl\n",
            "Requirement already satisfied: importlib-metadata>=0.12; python_version < \"3.8\" in /usr/local/lib/python3.6/dist-packages (from pytest>=4.0.2->phik>=0.9.8->pandas-profiling==2.*) (1.4.0)\n",
            "Requirement already satisfied: packaging in /usr/local/lib/python3.6/dist-packages (from pytest>=4.0.2->phik>=0.9.8->pandas-profiling==2.*) (20.0)\n",
            "Requirement already satisfied: attrs>=17.4.0 in /usr/local/lib/python3.6/dist-packages (from pytest>=4.0.2->phik>=0.9.8->pandas-profiling==2.*) (19.3.0)\n",
            "Requirement already satisfied: more-itertools>=4.0.0 in /usr/local/lib/python3.6/dist-packages (from pytest>=4.0.2->phik>=0.9.8->pandas-profiling==2.*) (8.0.2)\n",
            "Requirement already satisfied: llvmlite>=0.31.0dev0 in /usr/local/lib/python3.6/dist-packages (from numba>=0.38.1->phik>=0.9.8->pandas-profiling==2.*) (0.31.0)\n",
            "Requirement already satisfied: pyzmq>=13 in /usr/local/lib/python3.6/dist-packages (from jupyter-client>=5.2.3->phik>=0.9.8->pandas-profiling==2.*) (17.0.0)\n",
            "Requirement already satisfied: tornado>=4.1 in /usr/local/lib/python3.6/dist-packages (from jupyter-client>=5.2.3->phik>=0.9.8->pandas-profiling==2.*) (4.5.3)\n",
            "Requirement already satisfied: jupyter-core>=4.6.0 in /usr/local/lib/python3.6/dist-packages (from jupyter-client>=5.2.3->phik>=0.9.8->pandas-profiling==2.*) (4.6.1)\n",
            "Requirement already satisfied: traitlets in /usr/local/lib/python3.6/dist-packages (from jupyter-client>=5.2.3->phik>=0.9.8->pandas-profiling==2.*) (4.3.3)\n",
            "Collecting pylint>=1.4.5\n",
            "\u001b[?25l  Downloading https://files.pythonhosted.org/packages/e9/59/43fc36c5ee316bb9aeb7cf5329cdbdca89e5749c34d5602753827c0aa2dc/pylint-2.4.4-py3-none-any.whl (302kB)\n",
            "\u001b[K     |████████████████████████████████| 307kB 42.6MB/s \n",
            "\u001b[?25hRequirement already satisfied: mistune<2,>=0.8.1 in /usr/local/lib/python3.6/dist-packages (from nbconvert>=5.3.1->phik>=0.9.8->pandas-profiling==2.*) (0.8.4)\n",
            "Requirement already satisfied: defusedxml in /usr/local/lib/python3.6/dist-packages (from nbconvert>=5.3.1->phik>=0.9.8->pandas-profiling==2.*) (0.6.0)\n",
            "Requirement already satisfied: bleach in /usr/local/lib/python3.6/dist-packages (from nbconvert>=5.3.1->phik>=0.9.8->pandas-profiling==2.*) (3.1.0)\n",
            "Requirement already satisfied: pygments in /usr/local/lib/python3.6/dist-packages (from nbconvert>=5.3.1->phik>=0.9.8->pandas-profiling==2.*) (2.1.3)\n",
            "Requirement already satisfied: pandocfilters>=1.4.1 in /usr/local/lib/python3.6/dist-packages (from nbconvert>=5.3.1->phik>=0.9.8->pandas-profiling==2.*) (1.4.2)\n",
            "Requirement already satisfied: entrypoints>=0.2.2 in /usr/local/lib/python3.6/dist-packages (from nbconvert>=5.3.1->phik>=0.9.8->pandas-profiling==2.*) (0.3)\n",
            "Requirement already satisfied: testpath in /usr/local/lib/python3.6/dist-packages (from nbconvert>=5.3.1->phik>=0.9.8->pandas-profiling==2.*) (0.4.4)\n",
            "Requirement already satisfied: nbformat>=4.4 in /usr/local/lib/python3.6/dist-packages (from nbconvert>=5.3.1->phik>=0.9.8->pandas-profiling==2.*) (5.0.3)\n",
            "Requirement already satisfied: zipp>=0.5 in /usr/local/lib/python3.6/dist-packages (from importlib-metadata>=0.12; python_version < \"3.8\"->pytest>=4.0.2->phik>=0.9.8->pandas-profiling==2.*) (1.0.0)\n",
            "Requirement already satisfied: ipython-genutils in /usr/local/lib/python3.6/dist-packages (from traitlets->jupyter-client>=5.2.3->phik>=0.9.8->pandas-profiling==2.*) (0.2.0)\n",
            "Requirement already satisfied: decorator in /usr/local/lib/python3.6/dist-packages (from traitlets->jupyter-client>=5.2.3->phik>=0.9.8->pandas-profiling==2.*) (4.4.1)\n",
            "Collecting mccabe<0.7,>=0.6\n",
            "  Downloading https://files.pythonhosted.org/packages/87/89/479dc97e18549e21354893e4ee4ef36db1d237534982482c3681ee6e7b57/mccabe-0.6.1-py2.py3-none-any.whl\n",
            "Collecting astroid<2.4,>=2.3.0\n",
            "\u001b[?25l  Downloading https://files.pythonhosted.org/packages/ad/ae/86734823047962e7b8c8529186a1ac4a7ca19aaf1aa0c7713c022ef593fd/astroid-2.3.3-py3-none-any.whl (205kB)\n",
            "\u001b[K     |████████████████████████████████| 215kB 47.8MB/s \n",
            "\u001b[?25hCollecting isort<5,>=4.2.5\n",
            "\u001b[?25l  Downloading https://files.pythonhosted.org/packages/e5/b0/c121fd1fa3419ea9bfd55c7f9c4fedfec5143208d8c7ad3ce3db6c623c21/isort-4.3.21-py2.py3-none-any.whl (42kB)\n",
            "\u001b[K     |████████████████████████████████| 51kB 6.8MB/s \n",
            "\u001b[?25hRequirement already satisfied: webencodings in /usr/local/lib/python3.6/dist-packages (from bleach->nbconvert>=5.3.1->phik>=0.9.8->pandas-profiling==2.*) (0.5.1)\n",
            "Requirement already satisfied: jsonschema!=2.5.0,>=2.4 in /usr/local/lib/python3.6/dist-packages (from nbformat>=4.4->nbconvert>=5.3.1->phik>=0.9.8->pandas-profiling==2.*) (2.6.0)\n",
            "Collecting lazy-object-proxy==1.4.*\n",
            "\u001b[?25l  Downloading https://files.pythonhosted.org/packages/0b/dd/b1e3407e9e6913cf178e506cd0dee818e58694d9a5cd1984e3f6a8b9a10f/lazy_object_proxy-1.4.3-cp36-cp36m-manylinux1_x86_64.whl (55kB)\n",
            "\u001b[K     |████████████████████████████████| 61kB 7.8MB/s \n",
            "\u001b[?25hRequirement already satisfied: wrapt==1.11.* in /usr/local/lib/python3.6/dist-packages (from astroid<2.4,>=2.3.0->pylint>=1.4.5->pytest-pylint>=0.13.0->phik>=0.9.8->pandas-profiling==2.*) (1.11.2)\n",
            "Collecting typed-ast<1.5,>=1.4.0; implementation_name == \"cpython\" and python_version < \"3.8\"\n",
            "\u001b[?25l  Downloading https://files.pythonhosted.org/packages/90/ed/5459080d95eb87a02fe860d447197be63b6e2b5e9ff73c2b0a85622994f4/typed_ast-1.4.1-cp36-cp36m-manylinux1_x86_64.whl (737kB)\n",
            "\u001b[K     |████████████████████████████████| 747kB 48.1MB/s \n",
            "\u001b[?25hBuilding wheels for collected packages: pandas-profiling, confuse, htmlmin\n",
            "  Building wheel for pandas-profiling (setup.py) ... \u001b[?25l\u001b[?25hdone\n",
            "  Created wheel for pandas-profiling: filename=pandas_profiling-2.4.0-py2.py3-none-any.whl size=195587 sha256=0649cc8cd10813289c49bad0f1f43a10ec84df51a790315a03f1cf0e3d753f32\n",
            "  Stored in directory: /root/.cache/pip/wheels/b2/4b/40/ff4633a59f4e7fbdfec19b8e10e353b54b5eef125c31afe51a\n",
            "  Building wheel for confuse (setup.py) ... \u001b[?25l\u001b[?25hdone\n",
            "  Created wheel for confuse: filename=confuse-1.0.0-cp36-none-any.whl size=17486 sha256=07199d6ee77b5ee18a1ffac98f68b398ec44948dcfe7f05e1bb1f96b29eb06bd\n",
            "  Stored in directory: /root/.cache/pip/wheels/b0/b2/96/2074eee7dbf7b7df69d004c9b6ac4e32dad04fb7666cf943bd\n",
            "  Building wheel for htmlmin (setup.py) ... \u001b[?25l\u001b[?25hdone\n",
            "  Created wheel for htmlmin: filename=htmlmin-0.1.12-cp36-none-any.whl size=27084 sha256=6853f33e64d290f72d56a2ad1515e1e6d934455467e39fcdffbd022af3dbc88e\n",
            "  Stored in directory: /root/.cache/pip/wheels/43/07/ac/7c5a9d708d65247ac1f94066cf1db075540b85716c30255459\n",
            "Successfully built pandas-profiling confuse htmlmin\n",
            "\u001b[31mERROR: datascience 0.10.6 has requirement folium==0.2.1, but you'll have folium 0.8.3 which is incompatible.\u001b[0m\n",
            "Installing collected packages: confuse, htmlmin, pluggy, pytest, mccabe, lazy-object-proxy, typed-ast, astroid, isort, pylint, pytest-pylint, phik, pandas-profiling\n",
            "  Found existing installation: pluggy 0.7.1\n",
            "    Uninstalling pluggy-0.7.1:\n",
            "      Successfully uninstalled pluggy-0.7.1\n",
            "  Found existing installation: pytest 3.6.4\n",
            "    Uninstalling pytest-3.6.4:\n",
            "      Successfully uninstalled pytest-3.6.4\n",
            "  Found existing installation: pandas-profiling 1.4.1\n",
            "    Uninstalling pandas-profiling-1.4.1:\n",
            "      Successfully uninstalled pandas-profiling-1.4.1\n",
            "Successfully installed astroid-2.3.3 confuse-1.0.0 htmlmin-0.1.12 isort-4.3.21 lazy-object-proxy-1.4.3 mccabe-0.6.1 pandas-profiling-2.4.0 phik-0.9.9 pluggy-0.13.1 pylint-2.4.4 pytest-5.3.5 pytest-pylint-0.14.1 typed-ast-1.4.1\n"
          ],
          "name": "stdout"
        }
      ]
    },
    {
      "cell_type": "code",
      "metadata": {
        "colab_type": "code",
        "id": "QJBD4ruICm1m",
        "colab": {
          "base_uri": "https://localhost:8080/",
          "height": 35
        },
        "outputId": "fea9c905-8d76-486f-aa55-1d07b5f99b1b"
      },
      "source": [
        "import pandas as pd\n",
        "from sklearn.model_selection import train_test_split\n",
        "\n",
        "# import train\n",
        "train = pd.merge(pd.read_csv(DATA_PATH+'waterpumps/train_features.csv'), \n",
        "                 pd.read_csv(DATA_PATH+'waterpumps/train_labels.csv'))\n",
        "\n",
        "# import test\n",
        "test = pd.read_csv(DATA_PATH+'waterpumps/test_features.csv')\n",
        "sample_submission = pd.read_csv(DATA_PATH+'waterpumps/sample_submission.csv')\n",
        "\n",
        "train.shape, test.shape"
      ],
      "execution_count": 2,
      "outputs": [
        {
          "output_type": "execute_result",
          "data": {
            "text/plain": [
              "((59400, 41), (14358, 40))"
            ]
          },
          "metadata": {
            "tags": []
          },
          "execution_count": 2
        }
      ]
    },
    {
      "cell_type": "code",
      "metadata": {
        "id": "SlIGHgn_DsPg",
        "colab_type": "code",
        "colab": {
          "base_uri": "https://localhost:8080/",
          "height": 35
        },
        "outputId": "c8d088b0-5758-4343-af5a-2a2bbce9877f"
      },
      "source": [
        "# Check Pandas Profiling version\n",
        "import pandas_profiling\n",
        "pandas_profiling.__version__"
      ],
      "execution_count": 3,
      "outputs": [
        {
          "output_type": "execute_result",
          "data": {
            "text/plain": [
              "'2.4.0'"
            ]
          },
          "metadata": {
            "tags": []
          },
          "execution_count": 3
        }
      ]
    },
    {
      "cell_type": "code",
      "metadata": {
        "colab_type": "code",
        "id": "2Amxyx3xphbb",
        "colab": {}
      },
      "source": [
        "# Old code for Pandas Profiling version 2.3\n",
        "# It can be very slow with medium & large datasets.\n",
        "# These parameters will make it faster.\n",
        "\n",
        "# profile = train.profile_report(\n",
        "#     check_correlation_pearson=False,\n",
        "#     correlations={\n",
        "#         'pearson': False,\n",
        "#         'spearman': False,\n",
        "#         'kendall': False,\n",
        "#         'phi_k': False,\n",
        "#         'cramers': False,\n",
        "#         'recoded': False,\n",
        "#     },\n",
        "#     plot={'histogram': {'bayesian_blocks_bins': False}},\n",
        "# )\n",
        "#\n",
        "\n",
        "# New code for Pandas Profiling version 2.4\n",
        "from pandas_profiling import ProfileReport\n",
        "profile = ProfileReport(train, minimal=True).to_notebook_iframe()\n",
        "\n",
        "profile"
      ],
      "execution_count": 0,
      "outputs": []
    },
    {
      "cell_type": "markdown",
      "metadata": {
        "id": "jWdzppt9JH6v",
        "colab_type": "text"
      },
      "source": [
        "#**train/val/test split**\n",
        "#### Also Data Wrangling"
      ]
    },
    {
      "cell_type": "code",
      "metadata": {
        "id": "yQ2VCNB9DsPr",
        "colab_type": "code",
        "colab": {
          "base_uri": "https://localhost:8080/",
          "height": 35
        },
        "outputId": "ec874228-ce80-4de0-d570-da31ca469745"
      },
      "source": [
        "# split train data into train and val\n",
        "train, val = train_test_split(train, train_size=0.80, test_size=0.20, \n",
        "                              stratify=train['status_group'], random_state=42)\n",
        "\n",
        "train.shape, val.shape, test.shape"
      ],
      "execution_count": 5,
      "outputs": [
        {
          "output_type": "execute_result",
          "data": {
            "text/plain": [
              "((47520, 41), (11880, 41), (14358, 40))"
            ]
          },
          "metadata": {
            "tags": []
          },
          "execution_count": 5
        }
      ]
    },
    {
      "cell_type": "code",
      "metadata": {
        "id": "zuRx2U5yrTe8",
        "colab_type": "code",
        "colab": {
          "base_uri": "https://localhost:8080/",
          "height": 412
        },
        "outputId": "82e6230d-31d5-42d1-c582-9ea6f431ab7c"
      },
      "source": [
        "train.head(5)"
      ],
      "execution_count": 6,
      "outputs": [
        {
          "output_type": "execute_result",
          "data": {
            "text/html": [
              "<div>\n",
              "<style scoped>\n",
              "    .dataframe tbody tr th:only-of-type {\n",
              "        vertical-align: middle;\n",
              "    }\n",
              "\n",
              "    .dataframe tbody tr th {\n",
              "        vertical-align: top;\n",
              "    }\n",
              "\n",
              "    .dataframe thead th {\n",
              "        text-align: right;\n",
              "    }\n",
              "</style>\n",
              "<table border=\"1\" class=\"dataframe\">\n",
              "  <thead>\n",
              "    <tr style=\"text-align: right;\">\n",
              "      <th></th>\n",
              "      <th>id</th>\n",
              "      <th>amount_tsh</th>\n",
              "      <th>date_recorded</th>\n",
              "      <th>funder</th>\n",
              "      <th>gps_height</th>\n",
              "      <th>installer</th>\n",
              "      <th>longitude</th>\n",
              "      <th>latitude</th>\n",
              "      <th>wpt_name</th>\n",
              "      <th>num_private</th>\n",
              "      <th>basin</th>\n",
              "      <th>subvillage</th>\n",
              "      <th>region</th>\n",
              "      <th>region_code</th>\n",
              "      <th>district_code</th>\n",
              "      <th>lga</th>\n",
              "      <th>ward</th>\n",
              "      <th>population</th>\n",
              "      <th>public_meeting</th>\n",
              "      <th>recorded_by</th>\n",
              "      <th>scheme_management</th>\n",
              "      <th>scheme_name</th>\n",
              "      <th>permit</th>\n",
              "      <th>construction_year</th>\n",
              "      <th>extraction_type</th>\n",
              "      <th>extraction_type_group</th>\n",
              "      <th>extraction_type_class</th>\n",
              "      <th>management</th>\n",
              "      <th>management_group</th>\n",
              "      <th>payment</th>\n",
              "      <th>payment_type</th>\n",
              "      <th>water_quality</th>\n",
              "      <th>quality_group</th>\n",
              "      <th>quantity</th>\n",
              "      <th>quantity_group</th>\n",
              "      <th>source</th>\n",
              "      <th>source_type</th>\n",
              "      <th>source_class</th>\n",
              "      <th>waterpoint_type</th>\n",
              "      <th>waterpoint_type_group</th>\n",
              "      <th>status_group</th>\n",
              "    </tr>\n",
              "  </thead>\n",
              "  <tbody>\n",
              "    <tr>\n",
              "      <th>43360</th>\n",
              "      <td>72938</td>\n",
              "      <td>0.0</td>\n",
              "      <td>2011-07-27</td>\n",
              "      <td>NaN</td>\n",
              "      <td>0</td>\n",
              "      <td>NaN</td>\n",
              "      <td>33.542898</td>\n",
              "      <td>-9.174777</td>\n",
              "      <td>Kwa Mzee Noa</td>\n",
              "      <td>0</td>\n",
              "      <td>Lake Nyasa</td>\n",
              "      <td>Mpandapanda</td>\n",
              "      <td>Mbeya</td>\n",
              "      <td>12</td>\n",
              "      <td>4</td>\n",
              "      <td>Rungwe</td>\n",
              "      <td>Kiwira</td>\n",
              "      <td>0</td>\n",
              "      <td>True</td>\n",
              "      <td>GeoData Consultants Ltd</td>\n",
              "      <td>VWC</td>\n",
              "      <td>K</td>\n",
              "      <td>NaN</td>\n",
              "      <td>0</td>\n",
              "      <td>gravity</td>\n",
              "      <td>gravity</td>\n",
              "      <td>gravity</td>\n",
              "      <td>vwc</td>\n",
              "      <td>user-group</td>\n",
              "      <td>never pay</td>\n",
              "      <td>never pay</td>\n",
              "      <td>soft</td>\n",
              "      <td>good</td>\n",
              "      <td>insufficient</td>\n",
              "      <td>insufficient</td>\n",
              "      <td>spring</td>\n",
              "      <td>spring</td>\n",
              "      <td>groundwater</td>\n",
              "      <td>communal standpipe</td>\n",
              "      <td>communal standpipe</td>\n",
              "      <td>functional</td>\n",
              "    </tr>\n",
              "    <tr>\n",
              "      <th>7263</th>\n",
              "      <td>65358</td>\n",
              "      <td>500.0</td>\n",
              "      <td>2011-03-23</td>\n",
              "      <td>Rc Church</td>\n",
              "      <td>2049</td>\n",
              "      <td>ACRA</td>\n",
              "      <td>34.665760</td>\n",
              "      <td>-9.308548</td>\n",
              "      <td>Kwa Yasinta Ng'Ande</td>\n",
              "      <td>0</td>\n",
              "      <td>Rufiji</td>\n",
              "      <td>Kitichi</td>\n",
              "      <td>Iringa</td>\n",
              "      <td>11</td>\n",
              "      <td>4</td>\n",
              "      <td>Njombe</td>\n",
              "      <td>Imalinyi</td>\n",
              "      <td>175</td>\n",
              "      <td>True</td>\n",
              "      <td>GeoData Consultants Ltd</td>\n",
              "      <td>WUA</td>\n",
              "      <td>Tove Mtwango gravity Scheme</td>\n",
              "      <td>True</td>\n",
              "      <td>2008</td>\n",
              "      <td>gravity</td>\n",
              "      <td>gravity</td>\n",
              "      <td>gravity</td>\n",
              "      <td>wua</td>\n",
              "      <td>user-group</td>\n",
              "      <td>pay monthly</td>\n",
              "      <td>monthly</td>\n",
              "      <td>soft</td>\n",
              "      <td>good</td>\n",
              "      <td>enough</td>\n",
              "      <td>enough</td>\n",
              "      <td>spring</td>\n",
              "      <td>spring</td>\n",
              "      <td>groundwater</td>\n",
              "      <td>communal standpipe</td>\n",
              "      <td>communal standpipe</td>\n",
              "      <td>functional</td>\n",
              "    </tr>\n",
              "    <tr>\n",
              "      <th>2486</th>\n",
              "      <td>469</td>\n",
              "      <td>25.0</td>\n",
              "      <td>2011-03-07</td>\n",
              "      <td>Donor</td>\n",
              "      <td>290</td>\n",
              "      <td>Do</td>\n",
              "      <td>38.238568</td>\n",
              "      <td>-6.179919</td>\n",
              "      <td>Kwasungwini</td>\n",
              "      <td>0</td>\n",
              "      <td>Wami / Ruvu</td>\n",
              "      <td>Kwedigongo</td>\n",
              "      <td>Pwani</td>\n",
              "      <td>6</td>\n",
              "      <td>1</td>\n",
              "      <td>Bagamoyo</td>\n",
              "      <td>Mbwewe</td>\n",
              "      <td>2300</td>\n",
              "      <td>True</td>\n",
              "      <td>GeoData Consultants Ltd</td>\n",
              "      <td>VWC</td>\n",
              "      <td>NaN</td>\n",
              "      <td>False</td>\n",
              "      <td>2010</td>\n",
              "      <td>india mark ii</td>\n",
              "      <td>india mark ii</td>\n",
              "      <td>handpump</td>\n",
              "      <td>vwc</td>\n",
              "      <td>user-group</td>\n",
              "      <td>pay per bucket</td>\n",
              "      <td>per bucket</td>\n",
              "      <td>salty</td>\n",
              "      <td>salty</td>\n",
              "      <td>insufficient</td>\n",
              "      <td>insufficient</td>\n",
              "      <td>shallow well</td>\n",
              "      <td>shallow well</td>\n",
              "      <td>groundwater</td>\n",
              "      <td>hand pump</td>\n",
              "      <td>hand pump</td>\n",
              "      <td>functional</td>\n",
              "    </tr>\n",
              "    <tr>\n",
              "      <th>313</th>\n",
              "      <td>1298</td>\n",
              "      <td>0.0</td>\n",
              "      <td>2011-07-31</td>\n",
              "      <td>Government Of Tanzania</td>\n",
              "      <td>0</td>\n",
              "      <td>DWE</td>\n",
              "      <td>30.716727</td>\n",
              "      <td>-1.289055</td>\n",
              "      <td>Kwajovin 2</td>\n",
              "      <td>0</td>\n",
              "      <td>Lake Victoria</td>\n",
              "      <td>Kihanga</td>\n",
              "      <td>Kagera</td>\n",
              "      <td>18</td>\n",
              "      <td>1</td>\n",
              "      <td>Karagwe</td>\n",
              "      <td>Isingiro</td>\n",
              "      <td>0</td>\n",
              "      <td>True</td>\n",
              "      <td>GeoData Consultants Ltd</td>\n",
              "      <td>NaN</td>\n",
              "      <td>NaN</td>\n",
              "      <td>True</td>\n",
              "      <td>0</td>\n",
              "      <td>other</td>\n",
              "      <td>other</td>\n",
              "      <td>other</td>\n",
              "      <td>vwc</td>\n",
              "      <td>user-group</td>\n",
              "      <td>never pay</td>\n",
              "      <td>never pay</td>\n",
              "      <td>soft</td>\n",
              "      <td>good</td>\n",
              "      <td>enough</td>\n",
              "      <td>enough</td>\n",
              "      <td>shallow well</td>\n",
              "      <td>shallow well</td>\n",
              "      <td>groundwater</td>\n",
              "      <td>other</td>\n",
              "      <td>other</td>\n",
              "      <td>non functional</td>\n",
              "    </tr>\n",
              "    <tr>\n",
              "      <th>52726</th>\n",
              "      <td>27001</td>\n",
              "      <td>0.0</td>\n",
              "      <td>2011-03-10</td>\n",
              "      <td>Water</td>\n",
              "      <td>0</td>\n",
              "      <td>Gove</td>\n",
              "      <td>35.389331</td>\n",
              "      <td>-6.399942</td>\n",
              "      <td>Chama</td>\n",
              "      <td>0</td>\n",
              "      <td>Internal</td>\n",
              "      <td>Mtakuj</td>\n",
              "      <td>Dodoma</td>\n",
              "      <td>1</td>\n",
              "      <td>6</td>\n",
              "      <td>Bahi</td>\n",
              "      <td>Nondwa</td>\n",
              "      <td>0</td>\n",
              "      <td>True</td>\n",
              "      <td>GeoData Consultants Ltd</td>\n",
              "      <td>VWC</td>\n",
              "      <td>Zeje</td>\n",
              "      <td>True</td>\n",
              "      <td>0</td>\n",
              "      <td>mono</td>\n",
              "      <td>mono</td>\n",
              "      <td>motorpump</td>\n",
              "      <td>vwc</td>\n",
              "      <td>user-group</td>\n",
              "      <td>pay per bucket</td>\n",
              "      <td>per bucket</td>\n",
              "      <td>soft</td>\n",
              "      <td>good</td>\n",
              "      <td>enough</td>\n",
              "      <td>enough</td>\n",
              "      <td>machine dbh</td>\n",
              "      <td>borehole</td>\n",
              "      <td>groundwater</td>\n",
              "      <td>communal standpipe</td>\n",
              "      <td>communal standpipe</td>\n",
              "      <td>functional</td>\n",
              "    </tr>\n",
              "  </tbody>\n",
              "</table>\n",
              "</div>"
            ],
            "text/plain": [
              "          id  amount_tsh  ... waterpoint_type_group    status_group\n",
              "43360  72938         0.0  ...    communal standpipe      functional\n",
              "7263   65358       500.0  ...    communal standpipe      functional\n",
              "2486     469        25.0  ...             hand pump      functional\n",
              "313     1298         0.0  ...                 other  non functional\n",
              "52726  27001         0.0  ...    communal standpipe      functional\n",
              "\n",
              "[5 rows x 41 columns]"
            ]
          },
          "metadata": {
            "tags": []
          },
          "execution_count": 6
        }
      ]
    },
    {
      "cell_type": "code",
      "metadata": {
        "id": "mi59DoZIVFBU",
        "colab_type": "code",
        "colab": {}
      },
      "source": [
        "import numpy as np\n",
        "\n",
        "def clean(X):\n",
        "    \n",
        "    # Prevent SettingWithCopyWarning\n",
        "    X = X.copy()\n",
        "    \n",
        "    # convert small values to 0\n",
        "    X['latitude'] = X['latitude'].replace(-2e-08, 0)\n",
        "    \n",
        "    # replace 0's with null\n",
        "    cols_with_zeros = ['longitude', 'latitude']\n",
        "    for col in cols_with_zeros:\n",
        "        X[col] = X[col].replace(0, np.nan)\n",
        "            \n",
        "    # drop duplicate columns\n",
        "    X = X.drop(columns=['quantity_group', 'payment_type', 'extraction_type', \n",
        "                        'extraction_type_group', 'water_quality', \n",
        "                        'waterpoint_type', 'management'])\n",
        "    \n",
        "    # change date_recorded to just the year\n",
        "    # X['date_recorded'] = pd.to_datetime(X['date_recorded'], infer_datetime_format=True)\n",
        "    # date = []\n",
        "    # for i in range(X.shape[0]):\n",
        "    #   date.append(X['date_recorded'][i].year)\n",
        "    # X['date_recorded'] = date\n",
        "\n",
        "    # return cleaned dataframe\n",
        "    return X\n",
        "\n",
        "\n",
        "train = clean(train)\n",
        "val = clean(val)\n",
        "test = clean(test)"
      ],
      "execution_count": 0,
      "outputs": []
    },
    {
      "cell_type": "markdown",
      "metadata": {
        "id": "5LRMec9SOcmn",
        "colab_type": "text"
      },
      "source": [
        "#**Baseline**"
      ]
    },
    {
      "cell_type": "code",
      "metadata": {
        "id": "Jpgk-UwESUXW",
        "colab_type": "code",
        "colab": {
          "base_uri": "https://localhost:8080/",
          "height": 87
        },
        "outputId": "7a161fd5-824c-4ecc-b691-56bba30fbe75"
      },
      "source": [
        "train['status_group'].value_counts(normalize = True)"
      ],
      "execution_count": 8,
      "outputs": [
        {
          "output_type": "execute_result",
          "data": {
            "text/plain": [
              "functional                 0.543077\n",
              "non functional             0.384238\n",
              "functional needs repair    0.072685\n",
              "Name: status_group, dtype: float64"
            ]
          },
          "metadata": {
            "tags": []
          },
          "execution_count": 8
        }
      ]
    },
    {
      "cell_type": "markdown",
      "metadata": {
        "id": "4kHjsbRKSUqQ",
        "colab_type": "text"
      },
      "source": [
        "#**Decision Tree Model**"
      ]
    },
    {
      "cell_type": "code",
      "metadata": {
        "id": "geLEE7nIOehQ",
        "colab_type": "code",
        "colab": {}
      },
      "source": [
        "# select features\n",
        "target = 'status_group'\n",
        "\n",
        "train_feats = train.drop(columns=[target, 'id'])\n",
        "\n",
        "# numeric columns\n",
        "numeric_features = train_feats.select_dtypes(include='number').columns.tolist()\n",
        "\n",
        "#  Get a list of all categorical features with cardinality <= 21\n",
        "cardinality = train_feats.select_dtypes(exclude='number').nunique()\n",
        "categorical_features = cardinality[cardinality <= 21].index.tolist()\n",
        "\n",
        "features = features = numeric_features + categorical_features"
      ],
      "execution_count": 0,
      "outputs": []
    },
    {
      "cell_type": "code",
      "metadata": {
        "id": "AnxC6vJkqzpY",
        "colab_type": "code",
        "colab": {
          "base_uri": "https://localhost:8080/",
          "height": 439
        },
        "outputId": "be95943d-0af0-4cb8-98c4-48c29e869803"
      },
      "source": [
        "train_feats.select_dtypes(exclude='number').nunique()"
      ],
      "execution_count": 10,
      "outputs": [
        {
          "output_type": "execute_result",
          "data": {
            "text/plain": [
              "date_recorded              349\n",
              "funder                    1716\n",
              "installer                 1929\n",
              "wpt_name                 30661\n",
              "basin                        9\n",
              "subvillage               17231\n",
              "region                      21\n",
              "lga                        124\n",
              "ward                      2082\n",
              "public_meeting               2\n",
              "recorded_by                  1\n",
              "scheme_management           12\n",
              "scheme_name               2563\n",
              "permit                       2\n",
              "extraction_type_class        7\n",
              "management_group             5\n",
              "payment                      7\n",
              "quality_group                6\n",
              "quantity                     5\n",
              "source                      10\n",
              "source_type                  7\n",
              "source_class                 3\n",
              "waterpoint_type_group        6\n",
              "dtype: int64"
            ]
          },
          "metadata": {
            "tags": []
          },
          "execution_count": 10
        }
      ]
    },
    {
      "cell_type": "code",
      "metadata": {
        "id": "cn8FRwjfl1-B",
        "colab_type": "code",
        "colab": {}
      },
      "source": [
        "features = [\n",
        "            'amount_tsh',\n",
        " 'gps_height',\n",
        " 'longitude',\n",
        " 'latitude',\n",
        " 'num_private',\n",
        " 'region_code',\n",
        " 'district_code',\n",
        " 'population',\n",
        " 'construction_year',\n",
        " 'basin',\n",
        " 'region',\n",
        " 'public_meeting',\n",
        " 'recorded_by',\n",
        " 'scheme_management',\n",
        " 'permit',\n",
        " 'extraction_type_class',\n",
        " 'management_group',\n",
        " 'payment',\n",
        " 'quality_group',\n",
        " 'quantity',\n",
        " 'source',\n",
        " 'source_type',\n",
        " 'source_class',\n",
        " 'waterpoint_type_group']"
      ],
      "execution_count": 0,
      "outputs": []
    },
    {
      "cell_type": "code",
      "metadata": {
        "id": "v2SWaWXJh4l-",
        "colab_type": "code",
        "colab": {}
      },
      "source": [
        "# X matrix and y vector for train data\n",
        "X_train = train[features]\n",
        "y_train = train[target]\n",
        "\n",
        "# X matrix and y vector for val data\n",
        "X_val = val[features]\n",
        "y_val = val[target]\n",
        "\n",
        "# X matrix for val data\n",
        "X_test = test[features]"
      ],
      "execution_count": 0,
      "outputs": []
    },
    {
      "cell_type": "code",
      "metadata": {
        "id": "v5SFtK6SjyEX",
        "colab_type": "code",
        "colab": {
          "base_uri": "https://localhost:8080/",
          "height": 52
        },
        "outputId": "2c50405f-8ff8-4de6-c6e7-c4ca326d487d"
      },
      "source": [
        "import category_encoders as ce\n",
        "from sklearn.impute import SimpleImputer\n",
        "from sklearn.tree import DecisionTreeClassifier\n",
        "from sklearn.pipeline import make_pipeline\n",
        "from sklearn.preprocessing import StandardScaler\n",
        "\n",
        "pipeline = make_pipeline(\n",
        "    ce.OneHotEncoder(use_cat_names=True),\n",
        "    SimpleImputer(strategy='median'),\n",
        "    DecisionTreeClassifier(random_state=42)\n",
        ")\n",
        "\n",
        "# Fit on the training set\n",
        "pipeline.fit(X_train, y_train)\n",
        "\n",
        "# Score on training and validation set\n",
        "print('Training Accuracy:', pipeline.score(X_train, y_train))\n",
        "print('Validation Accuracy:', pipeline.score(X_val, y_val))"
      ],
      "execution_count": 13,
      "outputs": [
        {
          "output_type": "stream",
          "text": [
            "Training Accuracy: 0.9946759259259259\n",
            "Validation Accuracy: 0.7528619528619529\n"
          ],
          "name": "stdout"
        }
      ]
    },
    {
      "cell_type": "code",
      "metadata": {
        "id": "z0c7HYL4k4UH",
        "colab_type": "code",
        "colab": {
          "base_uri": "https://localhost:8080/",
          "height": 654
        },
        "outputId": "851bd4a9-1a0a-4492-a140-8f8e50a6e46f"
      },
      "source": [
        "import graphviz\n",
        "from sklearn.tree import export_graphviz\n",
        "\n",
        "model = pipeline.named_steps['decisiontreeclassifier']\n",
        "encoder = pipeline.named_steps['onehotencoder']\n",
        "encoded_columns = encoder.transform(X_val).columns\n",
        "\n",
        "dot_data = export_graphviz(model, out_file=None, max_depth=3, feature_names=encoded_columns,\n",
        "                           class_names=model.classes_, impurity=False, filled=True, \n",
        "                           proportion=True, rounded=True)   \n",
        "display(graphviz.Source(dot_data))"
      ],
      "execution_count": 14,
      "outputs": [
        {
          "output_type": "display_data",
          "data": {
            "text/plain": [
              "<graphviz.files.Source at 0x7fb745df7ef0>"
            ],
            "image/svg+xml": "<?xml version=\"1.0\" encoding=\"UTF-8\" standalone=\"no\"?>\n<!DOCTYPE svg PUBLIC \"-//W3C//DTD SVG 1.1//EN\"\n \"http://www.w3.org/Graphics/SVG/1.1/DTD/svg11.dtd\">\n<!-- Generated by graphviz version 2.40.1 (20161225.0304)\n -->\n<!-- Title: Tree Pages: 1 -->\n<svg width=\"1952pt\" height=\"460pt\"\n viewBox=\"0.00 0.00 1951.50 460.00\" xmlns=\"http://www.w3.org/2000/svg\" xmlns:xlink=\"http://www.w3.org/1999/xlink\">\n<g id=\"graph0\" class=\"graph\" transform=\"scale(1 1) rotate(0) translate(4 456)\">\n<title>Tree</title>\n<polygon fill=\"#ffffff\" stroke=\"transparent\" points=\"-4,4 -4,-456 1947.5,-456 1947.5,4 -4,4\"/>\n<!-- 0 -->\n<g id=\"node1\" class=\"node\">\n<title>0</title>\n<path fill=\"#f8decc\" stroke=\"#000000\" d=\"M1060.5,-452C1060.5,-452 884.5,-452 884.5,-452 878.5,-452 872.5,-446 872.5,-440 872.5,-440 872.5,-396 872.5,-396 872.5,-390 878.5,-384 884.5,-384 884.5,-384 1060.5,-384 1060.5,-384 1066.5,-384 1072.5,-390 1072.5,-396 1072.5,-396 1072.5,-440 1072.5,-440 1072.5,-446 1066.5,-452 1060.5,-452\"/>\n<text text-anchor=\"middle\" x=\"972.5\" y=\"-436.8\" font-family=\"Helvetica,sans-Serif\" font-size=\"14.00\" fill=\"#000000\">quantity_dry &lt;= 0.5</text>\n<text text-anchor=\"middle\" x=\"972.5\" y=\"-421.8\" font-family=\"Helvetica,sans-Serif\" font-size=\"14.00\" fill=\"#000000\">samples = 100.0%</text>\n<text text-anchor=\"middle\" x=\"972.5\" y=\"-406.8\" font-family=\"Helvetica,sans-Serif\" font-size=\"14.00\" fill=\"#000000\">value = [0.543, 0.073, 0.384]</text>\n<text text-anchor=\"middle\" x=\"972.5\" y=\"-391.8\" font-family=\"Helvetica,sans-Serif\" font-size=\"14.00\" fill=\"#000000\">class = functional</text>\n</g>\n<!-- 1 -->\n<g id=\"node2\" class=\"node\">\n<title>1</title>\n<path fill=\"#f4caac\" stroke=\"#000000\" d=\"M859,-348C859,-348 632,-348 632,-348 626,-348 620,-342 620,-336 620,-336 620,-292 620,-292 620,-286 626,-280 632,-280 632,-280 859,-280 859,-280 865,-280 871,-286 871,-292 871,-292 871,-336 871,-336 871,-342 865,-348 859,-348\"/>\n<text text-anchor=\"middle\" x=\"745.5\" y=\"-332.8\" font-family=\"Helvetica,sans-Serif\" font-size=\"14.00\" fill=\"#000000\">waterpoint_type_group_other &lt;= 0.5</text>\n<text text-anchor=\"middle\" x=\"745.5\" y=\"-317.8\" font-family=\"Helvetica,sans-Serif\" font-size=\"14.00\" fill=\"#000000\">samples = 89.6%</text>\n<text text-anchor=\"middle\" x=\"745.5\" y=\"-302.8\" font-family=\"Helvetica,sans-Serif\" font-size=\"14.00\" fill=\"#000000\">value = [0.603, 0.08, 0.317]</text>\n<text text-anchor=\"middle\" x=\"745.5\" y=\"-287.8\" font-family=\"Helvetica,sans-Serif\" font-size=\"14.00\" fill=\"#000000\">class = functional</text>\n</g>\n<!-- 0&#45;&gt;1 -->\n<g id=\"edge1\" class=\"edge\">\n<title>0&#45;&gt;1</title>\n<path fill=\"none\" stroke=\"#000000\" d=\"M898.1717,-383.9465C876.1247,-373.8457 851.83,-362.7151 829.2299,-352.3608\"/>\n<polygon fill=\"#000000\" stroke=\"#000000\" points=\"830.5444,-349.1133 819.9953,-348.13 827.6287,-355.4772 830.5444,-349.1133\"/>\n<text text-anchor=\"middle\" x=\"828.7035\" y=\"-367.8643\" font-family=\"Helvetica,sans-Serif\" font-size=\"14.00\" fill=\"#000000\">True</text>\n</g>\n<!-- 18260 -->\n<g id=\"node17\" class=\"node\">\n<title>18260</title>\n<path fill=\"#8540e6\" stroke=\"#000000\" d=\"M1305.5,-348C1305.5,-348 1129.5,-348 1129.5,-348 1123.5,-348 1117.5,-342 1117.5,-336 1117.5,-336 1117.5,-292 1117.5,-292 1117.5,-286 1123.5,-280 1129.5,-280 1129.5,-280 1305.5,-280 1305.5,-280 1311.5,-280 1317.5,-286 1317.5,-292 1317.5,-292 1317.5,-336 1317.5,-336 1317.5,-342 1311.5,-348 1305.5,-348\"/>\n<text text-anchor=\"middle\" x=\"1217.5\" y=\"-332.8\" font-family=\"Helvetica,sans-Serif\" font-size=\"14.00\" fill=\"#000000\">region_Mwanza &lt;= 0.5</text>\n<text text-anchor=\"middle\" x=\"1217.5\" y=\"-317.8\" font-family=\"Helvetica,sans-Serif\" font-size=\"14.00\" fill=\"#000000\">samples = 10.4%</text>\n<text text-anchor=\"middle\" x=\"1217.5\" y=\"-302.8\" font-family=\"Helvetica,sans-Serif\" font-size=\"14.00\" fill=\"#000000\">value = [0.026, 0.006, 0.968]</text>\n<text text-anchor=\"middle\" x=\"1217.5\" y=\"-287.8\" font-family=\"Helvetica,sans-Serif\" font-size=\"14.00\" fill=\"#000000\">class = non functional</text>\n</g>\n<!-- 0&#45;&gt;18260 -->\n<g id=\"edge16\" class=\"edge\">\n<title>0&#45;&gt;18260</title>\n<path fill=\"none\" stroke=\"#000000\" d=\"M1052.7222,-383.9465C1076.729,-373.7559 1103.2049,-362.5171 1127.7808,-352.0849\"/>\n<polygon fill=\"#000000\" stroke=\"#000000\" points=\"1129.2602,-355.2592 1137.0976,-348.13 1126.525,-348.8157 1129.2602,-355.2592\"/>\n<text text-anchor=\"middle\" x=\"1127.7327\" y=\"-367.6097\" font-family=\"Helvetica,sans-Serif\" font-size=\"14.00\" fill=\"#000000\">False</text>\n</g>\n<!-- 2 -->\n<g id=\"node3\" class=\"node\">\n<title>2</title>\n<path fill=\"#f1bd98\" stroke=\"#000000\" d=\"M495.5,-244C495.5,-244 319.5,-244 319.5,-244 313.5,-244 307.5,-238 307.5,-232 307.5,-232 307.5,-188 307.5,-188 307.5,-182 313.5,-176 319.5,-176 319.5,-176 495.5,-176 495.5,-176 501.5,-176 507.5,-182 507.5,-188 507.5,-188 507.5,-232 507.5,-232 507.5,-238 501.5,-244 495.5,-244\"/>\n<text text-anchor=\"middle\" x=\"407.5\" y=\"-228.8\" font-family=\"Helvetica,sans-Serif\" font-size=\"14.00\" fill=\"#000000\">amount_tsh &lt;= 1.5</text>\n<text text-anchor=\"middle\" x=\"407.5\" y=\"-213.8\" font-family=\"Helvetica,sans-Serif\" font-size=\"14.00\" fill=\"#000000\">samples = 81.1%</text>\n<text text-anchor=\"middle\" x=\"407.5\" y=\"-198.8\" font-family=\"Helvetica,sans-Serif\" font-size=\"14.00\" fill=\"#000000\">value = [0.649, 0.083, 0.268]</text>\n<text text-anchor=\"middle\" x=\"407.5\" y=\"-183.8\" font-family=\"Helvetica,sans-Serif\" font-size=\"14.00\" fill=\"#000000\">class = functional</text>\n</g>\n<!-- 1&#45;&gt;2 -->\n<g id=\"edge2\" class=\"edge\">\n<title>1&#45;&gt;2</title>\n<path fill=\"none\" stroke=\"#000000\" d=\"M634.8262,-279.9465C597.1814,-268.3635 555.1358,-255.4264 517.5407,-243.8587\"/>\n<polygon fill=\"#000000\" stroke=\"#000000\" points=\"518.162,-240.388 507.5749,-240.7923 516.1034,-247.0784 518.162,-240.388\"/>\n</g>\n<!-- 17123 -->\n<g id=\"node10\" class=\"node\">\n<title>17123</title>\n<path fill=\"#a26dec\" stroke=\"#000000\" d=\"M855,-244C855,-244 636,-244 636,-244 630,-244 624,-238 624,-232 624,-232 624,-188 624,-188 624,-182 630,-176 636,-176 636,-176 855,-176 855,-176 861,-176 867,-182 867,-188 867,-188 867,-232 867,-232 867,-238 861,-244 855,-244\"/>\n<text text-anchor=\"middle\" x=\"745.5\" y=\"-228.8\" font-family=\"Helvetica,sans-Serif\" font-size=\"14.00\" fill=\"#000000\">extraction_type_class_other &lt;= 0.5</text>\n<text text-anchor=\"middle\" x=\"745.5\" y=\"-213.8\" font-family=\"Helvetica,sans-Serif\" font-size=\"14.00\" fill=\"#000000\">samples = 8.5%</text>\n<text text-anchor=\"middle\" x=\"745.5\" y=\"-198.8\" font-family=\"Helvetica,sans-Serif\" font-size=\"14.00\" fill=\"#000000\">value = [0.162, 0.057, 0.781]</text>\n<text text-anchor=\"middle\" x=\"745.5\" y=\"-183.8\" font-family=\"Helvetica,sans-Serif\" font-size=\"14.00\" fill=\"#000000\">class = non functional</text>\n</g>\n<!-- 1&#45;&gt;17123 -->\n<g id=\"edge9\" class=\"edge\">\n<title>1&#45;&gt;17123</title>\n<path fill=\"none\" stroke=\"#000000\" d=\"M745.5,-279.9465C745.5,-271.776 745.5,-262.9318 745.5,-254.3697\"/>\n<polygon fill=\"#000000\" stroke=\"#000000\" points=\"749.0001,-254.13 745.5,-244.13 742.0001,-254.13 749.0001,-254.13\"/>\n</g>\n<!-- 3 -->\n<g id=\"node4\" class=\"node\">\n<title>3</title>\n<path fill=\"#f4ccaf\" stroke=\"#000000\" d=\"M277,-140C277,-140 12,-140 12,-140 6,-140 0,-134 0,-128 0,-128 0,-84 0,-84 0,-78 6,-72 12,-72 12,-72 277,-72 277,-72 283,-72 289,-78 289,-84 289,-84 289,-128 289,-128 289,-134 283,-140 277,-140\"/>\n<text text-anchor=\"middle\" x=\"144.5\" y=\"-124.8\" font-family=\"Helvetica,sans-Serif\" font-size=\"14.00\" fill=\"#000000\">extraction_type_class_submersible &lt;= 0.5</text>\n<text text-anchor=\"middle\" x=\"144.5\" y=\"-109.8\" font-family=\"Helvetica,sans-Serif\" font-size=\"14.00\" fill=\"#000000\">samples = 53.2%</text>\n<text text-anchor=\"middle\" x=\"144.5\" y=\"-94.8\" font-family=\"Helvetica,sans-Serif\" font-size=\"14.00\" fill=\"#000000\">value = [0.594, 0.086, 0.319]</text>\n<text text-anchor=\"middle\" x=\"144.5\" y=\"-79.8\" font-family=\"Helvetica,sans-Serif\" font-size=\"14.00\" fill=\"#000000\">class = functional</text>\n</g>\n<!-- 2&#45;&gt;3 -->\n<g id=\"edge3\" class=\"edge\">\n<title>2&#45;&gt;3</title>\n<path fill=\"none\" stroke=\"#000000\" d=\"M321.384,-175.9465C295.3864,-165.6661 266.6913,-154.319 240.114,-143.8093\"/>\n<polygon fill=\"#000000\" stroke=\"#000000\" points=\"241.3959,-140.5526 230.8095,-140.13 238.8218,-147.0621 241.3959,-140.5526\"/>\n</g>\n<!-- 12114 -->\n<g id=\"node7\" class=\"node\">\n<title>12114</title>\n<path fill=\"#eda774\" stroke=\"#000000\" d=\"M495.5,-140C495.5,-140 319.5,-140 319.5,-140 313.5,-140 307.5,-134 307.5,-128 307.5,-128 307.5,-84 307.5,-84 307.5,-78 313.5,-72 319.5,-72 319.5,-72 495.5,-72 495.5,-72 501.5,-72 507.5,-78 507.5,-84 507.5,-84 507.5,-128 507.5,-128 507.5,-134 501.5,-140 495.5,-140\"/>\n<text text-anchor=\"middle\" x=\"407.5\" y=\"-124.8\" font-family=\"Helvetica,sans-Serif\" font-size=\"14.00\" fill=\"#000000\">longitude &lt;= 30.65</text>\n<text text-anchor=\"middle\" x=\"407.5\" y=\"-109.8\" font-family=\"Helvetica,sans-Serif\" font-size=\"14.00\" fill=\"#000000\">samples = 28.0%</text>\n<text text-anchor=\"middle\" x=\"407.5\" y=\"-94.8\" font-family=\"Helvetica,sans-Serif\" font-size=\"14.00\" fill=\"#000000\">value = [0.753, 0.076, 0.171]</text>\n<text text-anchor=\"middle\" x=\"407.5\" y=\"-79.8\" font-family=\"Helvetica,sans-Serif\" font-size=\"14.00\" fill=\"#000000\">class = functional</text>\n</g>\n<!-- 2&#45;&gt;12114 -->\n<g id=\"edge6\" class=\"edge\">\n<title>2&#45;&gt;12114</title>\n<path fill=\"none\" stroke=\"#000000\" d=\"M407.5,-175.9465C407.5,-167.776 407.5,-158.9318 407.5,-150.3697\"/>\n<polygon fill=\"#000000\" stroke=\"#000000\" points=\"411.0001,-150.13 407.5,-140.13 404.0001,-150.13 411.0001,-150.13\"/>\n</g>\n<!-- 4 -->\n<g id=\"node5\" class=\"node\">\n<title>4</title>\n<path fill=\"#c0c0c0\" stroke=\"#000000\" d=\"M123.5,-36C123.5,-36 93.5,-36 93.5,-36 87.5,-36 81.5,-30 81.5,-24 81.5,-24 81.5,-12 81.5,-12 81.5,-6 87.5,0 93.5,0 93.5,0 123.5,0 123.5,0 129.5,0 135.5,-6 135.5,-12 135.5,-12 135.5,-24 135.5,-24 135.5,-30 129.5,-36 123.5,-36\"/>\n<text text-anchor=\"middle\" x=\"108.5\" y=\"-14.3\" font-family=\"Helvetica,sans-Serif\" font-size=\"14.00\" fill=\"#000000\">(...)</text>\n</g>\n<!-- 3&#45;&gt;4 -->\n<g id=\"edge4\" class=\"edge\">\n<title>3&#45;&gt;4</title>\n<path fill=\"none\" stroke=\"#000000\" d=\"M130.5815,-71.9769C126.9977,-63.2167 123.1862,-53.8995 119.7564,-45.5157\"/>\n<polygon fill=\"#000000\" stroke=\"#000000\" points=\"122.968,-44.1222 115.9422,-36.192 116.4891,-46.7727 122.968,-44.1222\"/>\n</g>\n<!-- 11513 -->\n<g id=\"node6\" class=\"node\">\n<title>11513</title>\n<path fill=\"#c0c0c0\" stroke=\"#000000\" d=\"M195.5,-36C195.5,-36 165.5,-36 165.5,-36 159.5,-36 153.5,-30 153.5,-24 153.5,-24 153.5,-12 153.5,-12 153.5,-6 159.5,0 165.5,0 165.5,0 195.5,0 195.5,0 201.5,0 207.5,-6 207.5,-12 207.5,-12 207.5,-24 207.5,-24 207.5,-30 201.5,-36 195.5,-36\"/>\n<text text-anchor=\"middle\" x=\"180.5\" y=\"-14.3\" font-family=\"Helvetica,sans-Serif\" font-size=\"14.00\" fill=\"#000000\">(...)</text>\n</g>\n<!-- 3&#45;&gt;11513 -->\n<g id=\"edge5\" class=\"edge\">\n<title>3&#45;&gt;11513</title>\n<path fill=\"none\" stroke=\"#000000\" d=\"M158.4185,-71.9769C162.0023,-63.2167 165.8138,-53.8995 169.2436,-45.5157\"/>\n<polygon fill=\"#000000\" stroke=\"#000000\" points=\"172.5109,-46.7727 173.0578,-36.192 166.032,-44.1222 172.5109,-46.7727\"/>\n</g>\n<!-- 12115 -->\n<g id=\"node8\" class=\"node\">\n<title>12115</title>\n<path fill=\"#c0c0c0\" stroke=\"#000000\" d=\"M386.5,-36C386.5,-36 356.5,-36 356.5,-36 350.5,-36 344.5,-30 344.5,-24 344.5,-24 344.5,-12 344.5,-12 344.5,-6 350.5,0 356.5,0 356.5,0 386.5,0 386.5,0 392.5,0 398.5,-6 398.5,-12 398.5,-12 398.5,-24 398.5,-24 398.5,-30 392.5,-36 386.5,-36\"/>\n<text text-anchor=\"middle\" x=\"371.5\" y=\"-14.3\" font-family=\"Helvetica,sans-Serif\" font-size=\"14.00\" fill=\"#000000\">(...)</text>\n</g>\n<!-- 12114&#45;&gt;12115 -->\n<g id=\"edge7\" class=\"edge\">\n<title>12114&#45;&gt;12115</title>\n<path fill=\"none\" stroke=\"#000000\" d=\"M393.5815,-71.9769C389.9977,-63.2167 386.1862,-53.8995 382.7564,-45.5157\"/>\n<polygon fill=\"#000000\" stroke=\"#000000\" points=\"385.968,-44.1222 378.9422,-36.192 379.4891,-46.7727 385.968,-44.1222\"/>\n</g>\n<!-- 12934 -->\n<g id=\"node9\" class=\"node\">\n<title>12934</title>\n<path fill=\"#c0c0c0\" stroke=\"#000000\" d=\"M458.5,-36C458.5,-36 428.5,-36 428.5,-36 422.5,-36 416.5,-30 416.5,-24 416.5,-24 416.5,-12 416.5,-12 416.5,-6 422.5,0 428.5,0 428.5,0 458.5,0 458.5,0 464.5,0 470.5,-6 470.5,-12 470.5,-12 470.5,-24 470.5,-24 470.5,-30 464.5,-36 458.5,-36\"/>\n<text text-anchor=\"middle\" x=\"443.5\" y=\"-14.3\" font-family=\"Helvetica,sans-Serif\" font-size=\"14.00\" fill=\"#000000\">(...)</text>\n</g>\n<!-- 12114&#45;&gt;12934 -->\n<g id=\"edge8\" class=\"edge\">\n<title>12114&#45;&gt;12934</title>\n<path fill=\"none\" stroke=\"#000000\" d=\"M421.4185,-71.9769C425.0023,-63.2167 428.8138,-53.8995 432.2436,-45.5157\"/>\n<polygon fill=\"#000000\" stroke=\"#000000\" points=\"435.5109,-46.7727 436.0578,-36.192 429.032,-44.1222 435.5109,-46.7727\"/>\n</g>\n<!-- 17124 -->\n<g id=\"node11\" class=\"node\">\n<title>17124</title>\n<path fill=\"#c9aaf4\" stroke=\"#000000\" d=\"M713.5,-140C713.5,-140 537.5,-140 537.5,-140 531.5,-140 525.5,-134 525.5,-128 525.5,-128 525.5,-84 525.5,-84 525.5,-78 531.5,-72 537.5,-72 537.5,-72 713.5,-72 713.5,-72 719.5,-72 725.5,-78 725.5,-84 725.5,-84 725.5,-128 725.5,-128 725.5,-134 719.5,-140 713.5,-140\"/>\n<text text-anchor=\"middle\" x=\"625.5\" y=\"-124.8\" font-family=\"Helvetica,sans-Serif\" font-size=\"14.00\" fill=\"#000000\">latitude &lt;= &#45;3.167</text>\n<text text-anchor=\"middle\" x=\"625.5\" y=\"-109.8\" font-family=\"Helvetica,sans-Serif\" font-size=\"14.00\" fill=\"#000000\">samples = 2.4%</text>\n<text text-anchor=\"middle\" x=\"625.5\" y=\"-94.8\" font-family=\"Helvetica,sans-Serif\" font-size=\"14.00\" fill=\"#000000\">value = [0.288, 0.119, 0.593]</text>\n<text text-anchor=\"middle\" x=\"625.5\" y=\"-79.8\" font-family=\"Helvetica,sans-Serif\" font-size=\"14.00\" fill=\"#000000\">class = non functional</text>\n</g>\n<!-- 17123&#45;&gt;17124 -->\n<g id=\"edge10\" class=\"edge\">\n<title>17123&#45;&gt;17124</title>\n<path fill=\"none\" stroke=\"#000000\" d=\"M706.2075,-175.9465C695.4333,-166.6088 683.6436,-156.3911 672.485,-146.7203\"/>\n<polygon fill=\"#000000\" stroke=\"#000000\" points=\"674.7299,-144.0344 664.8808,-140.13 670.1454,-149.3243 674.7299,-144.0344\"/>\n</g>\n<!-- 17561 -->\n<g id=\"node14\" class=\"node\">\n<title>17561</title>\n<path fill=\"#965ae9\" stroke=\"#000000\" d=\"M931.5,-140C931.5,-140 755.5,-140 755.5,-140 749.5,-140 743.5,-134 743.5,-128 743.5,-128 743.5,-84 743.5,-84 743.5,-78 749.5,-72 755.5,-72 755.5,-72 931.5,-72 931.5,-72 937.5,-72 943.5,-78 943.5,-84 943.5,-84 943.5,-128 943.5,-128 943.5,-134 937.5,-140 931.5,-140\"/>\n<text text-anchor=\"middle\" x=\"843.5\" y=\"-124.8\" font-family=\"Helvetica,sans-Serif\" font-size=\"14.00\" fill=\"#000000\">quality_group_milky &lt;= 0.5</text>\n<text text-anchor=\"middle\" x=\"843.5\" y=\"-109.8\" font-family=\"Helvetica,sans-Serif\" font-size=\"14.00\" fill=\"#000000\">samples = 6.1%</text>\n<text text-anchor=\"middle\" x=\"843.5\" y=\"-94.8\" font-family=\"Helvetica,sans-Serif\" font-size=\"14.00\" fill=\"#000000\">value = [0.113, 0.033, 0.854]</text>\n<text text-anchor=\"middle\" x=\"843.5\" y=\"-79.8\" font-family=\"Helvetica,sans-Serif\" font-size=\"14.00\" fill=\"#000000\">class = non functional</text>\n</g>\n<!-- 17123&#45;&gt;17561 -->\n<g id=\"edge13\" class=\"edge\">\n<title>17123&#45;&gt;17561</title>\n<path fill=\"none\" stroke=\"#000000\" d=\"M777.5889,-175.9465C786.134,-166.8782 795.4613,-156.9799 804.3391,-147.5585\"/>\n<polygon fill=\"#000000\" stroke=\"#000000\" points=\"807.0283,-149.8082 811.339,-140.13 801.9337,-145.0076 807.0283,-149.8082\"/>\n</g>\n<!-- 17125 -->\n<g id=\"node12\" class=\"node\">\n<title>17125</title>\n<path fill=\"#c0c0c0\" stroke=\"#000000\" d=\"M604.5,-36C604.5,-36 574.5,-36 574.5,-36 568.5,-36 562.5,-30 562.5,-24 562.5,-24 562.5,-12 562.5,-12 562.5,-6 568.5,0 574.5,0 574.5,0 604.5,0 604.5,0 610.5,0 616.5,-6 616.5,-12 616.5,-12 616.5,-24 616.5,-24 616.5,-30 610.5,-36 604.5,-36\"/>\n<text text-anchor=\"middle\" x=\"589.5\" y=\"-14.3\" font-family=\"Helvetica,sans-Serif\" font-size=\"14.00\" fill=\"#000000\">(...)</text>\n</g>\n<!-- 17124&#45;&gt;17125 -->\n<g id=\"edge11\" class=\"edge\">\n<title>17124&#45;&gt;17125</title>\n<path fill=\"none\" stroke=\"#000000\" d=\"M611.5815,-71.9769C607.9977,-63.2167 604.1862,-53.8995 600.7564,-45.5157\"/>\n<polygon fill=\"#000000\" stroke=\"#000000\" points=\"603.968,-44.1222 596.9422,-36.192 597.4891,-46.7727 603.968,-44.1222\"/>\n</g>\n<!-- 17464 -->\n<g id=\"node13\" class=\"node\">\n<title>17464</title>\n<path fill=\"#c0c0c0\" stroke=\"#000000\" d=\"M676.5,-36C676.5,-36 646.5,-36 646.5,-36 640.5,-36 634.5,-30 634.5,-24 634.5,-24 634.5,-12 634.5,-12 634.5,-6 640.5,0 646.5,0 646.5,0 676.5,0 676.5,0 682.5,0 688.5,-6 688.5,-12 688.5,-12 688.5,-24 688.5,-24 688.5,-30 682.5,-36 676.5,-36\"/>\n<text text-anchor=\"middle\" x=\"661.5\" y=\"-14.3\" font-family=\"Helvetica,sans-Serif\" font-size=\"14.00\" fill=\"#000000\">(...)</text>\n</g>\n<!-- 17124&#45;&gt;17464 -->\n<g id=\"edge12\" class=\"edge\">\n<title>17124&#45;&gt;17464</title>\n<path fill=\"none\" stroke=\"#000000\" d=\"M639.4185,-71.9769C643.0023,-63.2167 646.8138,-53.8995 650.2436,-45.5157\"/>\n<polygon fill=\"#000000\" stroke=\"#000000\" points=\"653.5109,-46.7727 654.0578,-36.192 647.032,-44.1222 653.5109,-46.7727\"/>\n</g>\n<!-- 17562 -->\n<g id=\"node15\" class=\"node\">\n<title>17562</title>\n<path fill=\"#c0c0c0\" stroke=\"#000000\" d=\"M822.5,-36C822.5,-36 792.5,-36 792.5,-36 786.5,-36 780.5,-30 780.5,-24 780.5,-24 780.5,-12 780.5,-12 780.5,-6 786.5,0 792.5,0 792.5,0 822.5,0 822.5,0 828.5,0 834.5,-6 834.5,-12 834.5,-12 834.5,-24 834.5,-24 834.5,-30 828.5,-36 822.5,-36\"/>\n<text text-anchor=\"middle\" x=\"807.5\" y=\"-14.3\" font-family=\"Helvetica,sans-Serif\" font-size=\"14.00\" fill=\"#000000\">(...)</text>\n</g>\n<!-- 17561&#45;&gt;17562 -->\n<g id=\"edge14\" class=\"edge\">\n<title>17561&#45;&gt;17562</title>\n<path fill=\"none\" stroke=\"#000000\" d=\"M829.5815,-71.9769C825.9977,-63.2167 822.1862,-53.8995 818.7564,-45.5157\"/>\n<polygon fill=\"#000000\" stroke=\"#000000\" points=\"821.968,-44.1222 814.9422,-36.192 815.4891,-46.7727 821.968,-44.1222\"/>\n</g>\n<!-- 18143 -->\n<g id=\"node16\" class=\"node\">\n<title>18143</title>\n<path fill=\"#c0c0c0\" stroke=\"#000000\" d=\"M894.5,-36C894.5,-36 864.5,-36 864.5,-36 858.5,-36 852.5,-30 852.5,-24 852.5,-24 852.5,-12 852.5,-12 852.5,-6 858.5,0 864.5,0 864.5,0 894.5,0 894.5,0 900.5,0 906.5,-6 906.5,-12 906.5,-12 906.5,-24 906.5,-24 906.5,-30 900.5,-36 894.5,-36\"/>\n<text text-anchor=\"middle\" x=\"879.5\" y=\"-14.3\" font-family=\"Helvetica,sans-Serif\" font-size=\"14.00\" fill=\"#000000\">(...)</text>\n</g>\n<!-- 17561&#45;&gt;18143 -->\n<g id=\"edge15\" class=\"edge\">\n<title>17561&#45;&gt;18143</title>\n<path fill=\"none\" stroke=\"#000000\" d=\"M857.4185,-71.9769C861.0023,-63.2167 864.8138,-53.8995 868.2436,-45.5157\"/>\n<polygon fill=\"#000000\" stroke=\"#000000\" points=\"871.5109,-46.7727 872.0578,-36.192 865.032,-44.1222 871.5109,-46.7727\"/>\n</g>\n<!-- 18261 -->\n<g id=\"node18\" class=\"node\">\n<title>18261</title>\n<path fill=\"#843ee6\" stroke=\"#000000\" d=\"M1306,-244C1306,-244 1129,-244 1129,-244 1123,-244 1117,-238 1117,-232 1117,-232 1117,-188 1117,-188 1117,-182 1123,-176 1129,-176 1129,-176 1306,-176 1306,-176 1312,-176 1318,-182 1318,-188 1318,-188 1318,-232 1318,-232 1318,-238 1312,-244 1306,-244\"/>\n<text text-anchor=\"middle\" x=\"1217.5\" y=\"-228.8\" font-family=\"Helvetica,sans-Serif\" font-size=\"14.00\" fill=\"#000000\">construction_year &lt;= 2011.5</text>\n<text text-anchor=\"middle\" x=\"1217.5\" y=\"-213.8\" font-family=\"Helvetica,sans-Serif\" font-size=\"14.00\" fill=\"#000000\">samples = 9.7%</text>\n<text text-anchor=\"middle\" x=\"1217.5\" y=\"-198.8\" font-family=\"Helvetica,sans-Serif\" font-size=\"14.00\" fill=\"#000000\">value = [0.019, 0.006, 0.974]</text>\n<text text-anchor=\"middle\" x=\"1217.5\" y=\"-183.8\" font-family=\"Helvetica,sans-Serif\" font-size=\"14.00\" fill=\"#000000\">class = non functional</text>\n</g>\n<!-- 18260&#45;&gt;18261 -->\n<g id=\"edge17\" class=\"edge\">\n<title>18260&#45;&gt;18261</title>\n<path fill=\"none\" stroke=\"#000000\" d=\"M1217.5,-279.9465C1217.5,-271.776 1217.5,-262.9318 1217.5,-254.3697\"/>\n<polygon fill=\"#000000\" stroke=\"#000000\" points=\"1221.0001,-254.13 1217.5,-244.13 1214.0001,-254.13 1221.0001,-254.13\"/>\n</g>\n<!-- 18604 -->\n<g id=\"node25\" class=\"node\">\n<title>18604</title>\n<path fill=\"#9558e9\" stroke=\"#000000\" d=\"M1641.5,-244C1641.5,-244 1465.5,-244 1465.5,-244 1459.5,-244 1453.5,-238 1453.5,-232 1453.5,-232 1453.5,-188 1453.5,-188 1453.5,-182 1459.5,-176 1465.5,-176 1465.5,-176 1641.5,-176 1641.5,-176 1647.5,-176 1653.5,-182 1653.5,-188 1653.5,-188 1653.5,-232 1653.5,-232 1653.5,-238 1647.5,-244 1641.5,-244\"/>\n<text text-anchor=\"middle\" x=\"1553.5\" y=\"-228.8\" font-family=\"Helvetica,sans-Serif\" font-size=\"14.00\" fill=\"#000000\">longitude &lt;= 32.736</text>\n<text text-anchor=\"middle\" x=\"1553.5\" y=\"-213.8\" font-family=\"Helvetica,sans-Serif\" font-size=\"14.00\" fill=\"#000000\">samples = 0.6%</text>\n<text text-anchor=\"middle\" x=\"1553.5\" y=\"-198.8\" font-family=\"Helvetica,sans-Serif\" font-size=\"14.00\" fill=\"#000000\">value = [0.132, 0.003, 0.864]</text>\n<text text-anchor=\"middle\" x=\"1553.5\" y=\"-183.8\" font-family=\"Helvetica,sans-Serif\" font-size=\"14.00\" fill=\"#000000\">class = non functional</text>\n</g>\n<!-- 18260&#45;&gt;18604 -->\n<g id=\"edge24\" class=\"edge\">\n<title>18260&#45;&gt;18604</title>\n<path fill=\"none\" stroke=\"#000000\" d=\"M1317.856,-282.9374C1357.5095,-270.6637 1403.1989,-256.5218 1443.7286,-243.9769\"/>\n<polygon fill=\"#000000\" stroke=\"#000000\" points=\"1444.853,-247.2927 1453.371,-240.9923 1442.7832,-240.6057 1444.853,-247.2927\"/>\n</g>\n<!-- 18262 -->\n<g id=\"node19\" class=\"node\">\n<title>18262</title>\n<path fill=\"#843ee6\" stroke=\"#000000\" d=\"M1229.5,-140C1229.5,-140 973.5,-140 973.5,-140 967.5,-140 961.5,-134 961.5,-128 961.5,-128 961.5,-84 961.5,-84 961.5,-78 967.5,-72 973.5,-72 973.5,-72 1229.5,-72 1229.5,-72 1235.5,-72 1241.5,-78 1241.5,-84 1241.5,-84 1241.5,-128 1241.5,-128 1241.5,-134 1235.5,-140 1229.5,-140\"/>\n<text text-anchor=\"middle\" x=\"1101.5\" y=\"-124.8\" font-family=\"Helvetica,sans-Serif\" font-size=\"14.00\" fill=\"#000000\">extraction_type_class_handpump &lt;= 0.5</text>\n<text text-anchor=\"middle\" x=\"1101.5\" y=\"-109.8\" font-family=\"Helvetica,sans-Serif\" font-size=\"14.00\" fill=\"#000000\">samples = 9.6%</text>\n<text text-anchor=\"middle\" x=\"1101.5\" y=\"-94.8\" font-family=\"Helvetica,sans-Serif\" font-size=\"14.00\" fill=\"#000000\">value = [0.017, 0.007, 0.977]</text>\n<text text-anchor=\"middle\" x=\"1101.5\" y=\"-79.8\" font-family=\"Helvetica,sans-Serif\" font-size=\"14.00\" fill=\"#000000\">class = non functional</text>\n</g>\n<!-- 18261&#45;&gt;18262 -->\n<g id=\"edge18\" class=\"edge\">\n<title>18261&#45;&gt;18262</title>\n<path fill=\"none\" stroke=\"#000000\" d=\"M1179.5173,-175.9465C1169.2023,-166.6986 1157.9246,-156.5876 1147.2301,-146.9994\"/>\n<polygon fill=\"#000000\" stroke=\"#000000\" points=\"1149.3502,-144.1995 1139.5681,-140.13 1144.6774,-149.4115 1149.3502,-144.1995\"/>\n</g>\n<!-- 18593 -->\n<g id=\"node22\" class=\"node\">\n<title>18593</title>\n<path fill=\"#a26dec\" stroke=\"#000000\" d=\"M1431.5,-140C1431.5,-140 1271.5,-140 1271.5,-140 1265.5,-140 1259.5,-134 1259.5,-128 1259.5,-128 1259.5,-84 1259.5,-84 1259.5,-78 1265.5,-72 1271.5,-72 1271.5,-72 1431.5,-72 1431.5,-72 1437.5,-72 1443.5,-78 1443.5,-84 1443.5,-84 1443.5,-128 1443.5,-128 1443.5,-134 1437.5,-140 1431.5,-140\"/>\n<text text-anchor=\"middle\" x=\"1351.5\" y=\"-124.8\" font-family=\"Helvetica,sans-Serif\" font-size=\"14.00\" fill=\"#000000\">latitude &lt;= &#45;10.752</text>\n<text text-anchor=\"middle\" x=\"1351.5\" y=\"-109.8\" font-family=\"Helvetica,sans-Serif\" font-size=\"14.00\" fill=\"#000000\">samples = 0.1%</text>\n<text text-anchor=\"middle\" x=\"1351.5\" y=\"-94.8\" font-family=\"Helvetica,sans-Serif\" font-size=\"14.00\" fill=\"#000000\">value = [0.208, 0.0, 0.792]</text>\n<text text-anchor=\"middle\" x=\"1351.5\" y=\"-79.8\" font-family=\"Helvetica,sans-Serif\" font-size=\"14.00\" fill=\"#000000\">class = non functional</text>\n</g>\n<!-- 18261&#45;&gt;18593 -->\n<g id=\"edge21\" class=\"edge\">\n<title>18261&#45;&gt;18593</title>\n<path fill=\"none\" stroke=\"#000000\" d=\"M1261.3766,-175.9465C1273.5235,-166.519 1286.8262,-156.1946 1299.3927,-146.4415\"/>\n<polygon fill=\"#000000\" stroke=\"#000000\" points=\"1301.7709,-149.0262 1307.5248,-140.13 1297.479,-143.4963 1301.7709,-149.0262\"/>\n</g>\n<!-- 18263 -->\n<g id=\"node20\" class=\"node\">\n<title>18263</title>\n<path fill=\"#c0c0c0\" stroke=\"#000000\" d=\"M1080.5,-36C1080.5,-36 1050.5,-36 1050.5,-36 1044.5,-36 1038.5,-30 1038.5,-24 1038.5,-24 1038.5,-12 1038.5,-12 1038.5,-6 1044.5,0 1050.5,0 1050.5,0 1080.5,0 1080.5,0 1086.5,0 1092.5,-6 1092.5,-12 1092.5,-12 1092.5,-24 1092.5,-24 1092.5,-30 1086.5,-36 1080.5,-36\"/>\n<text text-anchor=\"middle\" x=\"1065.5\" y=\"-14.3\" font-family=\"Helvetica,sans-Serif\" font-size=\"14.00\" fill=\"#000000\">(...)</text>\n</g>\n<!-- 18262&#45;&gt;18263 -->\n<g id=\"edge19\" class=\"edge\">\n<title>18262&#45;&gt;18263</title>\n<path fill=\"none\" stroke=\"#000000\" d=\"M1087.5815,-71.9769C1083.9977,-63.2167 1080.1862,-53.8995 1076.7564,-45.5157\"/>\n<polygon fill=\"#000000\" stroke=\"#000000\" points=\"1079.968,-44.1222 1072.9422,-36.192 1073.4891,-46.7727 1079.968,-44.1222\"/>\n</g>\n<!-- 18450 -->\n<g id=\"node21\" class=\"node\">\n<title>18450</title>\n<path fill=\"#c0c0c0\" stroke=\"#000000\" d=\"M1152.5,-36C1152.5,-36 1122.5,-36 1122.5,-36 1116.5,-36 1110.5,-30 1110.5,-24 1110.5,-24 1110.5,-12 1110.5,-12 1110.5,-6 1116.5,0 1122.5,0 1122.5,0 1152.5,0 1152.5,0 1158.5,0 1164.5,-6 1164.5,-12 1164.5,-12 1164.5,-24 1164.5,-24 1164.5,-30 1158.5,-36 1152.5,-36\"/>\n<text text-anchor=\"middle\" x=\"1137.5\" y=\"-14.3\" font-family=\"Helvetica,sans-Serif\" font-size=\"14.00\" fill=\"#000000\">(...)</text>\n</g>\n<!-- 18262&#45;&gt;18450 -->\n<g id=\"edge20\" class=\"edge\">\n<title>18262&#45;&gt;18450</title>\n<path fill=\"none\" stroke=\"#000000\" d=\"M1115.4185,-71.9769C1119.0023,-63.2167 1122.8138,-53.8995 1126.2436,-45.5157\"/>\n<polygon fill=\"#000000\" stroke=\"#000000\" points=\"1129.5109,-46.7727 1130.0578,-36.192 1123.032,-44.1222 1129.5109,-46.7727\"/>\n</g>\n<!-- 18594 -->\n<g id=\"node23\" class=\"node\">\n<title>18594</title>\n<path fill=\"#c0c0c0\" stroke=\"#000000\" d=\"M1323.5,-36C1323.5,-36 1293.5,-36 1293.5,-36 1287.5,-36 1281.5,-30 1281.5,-24 1281.5,-24 1281.5,-12 1281.5,-12 1281.5,-6 1287.5,0 1293.5,0 1293.5,0 1323.5,0 1323.5,0 1329.5,0 1335.5,-6 1335.5,-12 1335.5,-12 1335.5,-24 1335.5,-24 1335.5,-30 1329.5,-36 1323.5,-36\"/>\n<text text-anchor=\"middle\" x=\"1308.5\" y=\"-14.3\" font-family=\"Helvetica,sans-Serif\" font-size=\"14.00\" fill=\"#000000\">(...)</text>\n</g>\n<!-- 18593&#45;&gt;18594 -->\n<g id=\"edge22\" class=\"edge\">\n<title>18593&#45;&gt;18594</title>\n<path fill=\"none\" stroke=\"#000000\" d=\"M1334.8751,-71.9769C1330.548,-63.1215 1325.9428,-53.6969 1321.8118,-45.2427\"/>\n<polygon fill=\"#000000\" stroke=\"#000000\" points=\"1324.9242,-43.6401 1317.3892,-36.192 1318.6349,-46.7133 1324.9242,-43.6401\"/>\n</g>\n<!-- 18597 -->\n<g id=\"node24\" class=\"node\">\n<title>18597</title>\n<path fill=\"#c0c0c0\" stroke=\"#000000\" d=\"M1395.5,-36C1395.5,-36 1365.5,-36 1365.5,-36 1359.5,-36 1353.5,-30 1353.5,-24 1353.5,-24 1353.5,-12 1353.5,-12 1353.5,-6 1359.5,0 1365.5,0 1365.5,0 1395.5,0 1395.5,0 1401.5,0 1407.5,-6 1407.5,-12 1407.5,-12 1407.5,-24 1407.5,-24 1407.5,-30 1401.5,-36 1395.5,-36\"/>\n<text text-anchor=\"middle\" x=\"1380.5\" y=\"-14.3\" font-family=\"Helvetica,sans-Serif\" font-size=\"14.00\" fill=\"#000000\">(...)</text>\n</g>\n<!-- 18593&#45;&gt;18597 -->\n<g id=\"edge23\" class=\"edge\">\n<title>18593&#45;&gt;18597</title>\n<path fill=\"none\" stroke=\"#000000\" d=\"M1362.7122,-71.9769C1365.5677,-63.3119 1368.6028,-54.102 1371.3421,-45.7894\"/>\n<polygon fill=\"#000000\" stroke=\"#000000\" points=\"1374.6991,-46.785 1374.5049,-36.192 1368.0508,-44.594 1374.6991,-46.785\"/>\n</g>\n<!-- 18605 -->\n<g id=\"node26\" class=\"node\">\n<title>18605</title>\n<path fill=\"#fbe9dd\" stroke=\"#000000\" d=\"M1633.5,-140C1633.5,-140 1473.5,-140 1473.5,-140 1467.5,-140 1461.5,-134 1461.5,-128 1461.5,-128 1461.5,-84 1461.5,-84 1461.5,-78 1467.5,-72 1473.5,-72 1473.5,-72 1633.5,-72 1633.5,-72 1639.5,-72 1645.5,-78 1645.5,-84 1645.5,-84 1645.5,-128 1645.5,-128 1645.5,-134 1639.5,-140 1633.5,-140\"/>\n<text text-anchor=\"middle\" x=\"1553.5\" y=\"-124.8\" font-family=\"Helvetica,sans-Serif\" font-size=\"14.00\" fill=\"#000000\">longitude &lt;= 32.133</text>\n<text text-anchor=\"middle\" x=\"1553.5\" y=\"-109.8\" font-family=\"Helvetica,sans-Serif\" font-size=\"14.00\" fill=\"#000000\">samples = 0.1%</text>\n<text text-anchor=\"middle\" x=\"1553.5\" y=\"-94.8\" font-family=\"Helvetica,sans-Serif\" font-size=\"14.00\" fill=\"#000000\">value = [0.547, 0.0, 0.453]</text>\n<text text-anchor=\"middle\" x=\"1553.5\" y=\"-79.8\" font-family=\"Helvetica,sans-Serif\" font-size=\"14.00\" fill=\"#000000\">class = functional</text>\n</g>\n<!-- 18604&#45;&gt;18605 -->\n<g id=\"edge25\" class=\"edge\">\n<title>18604&#45;&gt;18605</title>\n<path fill=\"none\" stroke=\"#000000\" d=\"M1553.5,-175.9465C1553.5,-167.776 1553.5,-158.9318 1553.5,-150.3697\"/>\n<polygon fill=\"#000000\" stroke=\"#000000\" points=\"1557.0001,-150.13 1553.5,-140.13 1550.0001,-150.13 1557.0001,-150.13\"/>\n</g>\n<!-- 18644 -->\n<g id=\"node29\" class=\"node\">\n<title>18644</title>\n<path fill=\"#8743e6\" stroke=\"#000000\" d=\"M1931.5,-140C1931.5,-140 1675.5,-140 1675.5,-140 1669.5,-140 1663.5,-134 1663.5,-128 1663.5,-128 1663.5,-84 1663.5,-84 1663.5,-78 1669.5,-72 1675.5,-72 1675.5,-72 1931.5,-72 1931.5,-72 1937.5,-72 1943.5,-78 1943.5,-84 1943.5,-84 1943.5,-128 1943.5,-128 1943.5,-134 1937.5,-140 1931.5,-140\"/>\n<text text-anchor=\"middle\" x=\"1803.5\" y=\"-124.8\" font-family=\"Helvetica,sans-Serif\" font-size=\"14.00\" fill=\"#000000\">source_type_rainwater harvesting &lt;= 0.5</text>\n<text text-anchor=\"middle\" x=\"1803.5\" y=\"-109.8\" font-family=\"Helvetica,sans-Serif\" font-size=\"14.00\" fill=\"#000000\">samples = 0.5%</text>\n<text text-anchor=\"middle\" x=\"1803.5\" y=\"-94.8\" font-family=\"Helvetica,sans-Serif\" font-size=\"14.00\" fill=\"#000000\">value = [0.044, 0.004, 0.952]</text>\n<text text-anchor=\"middle\" x=\"1803.5\" y=\"-79.8\" font-family=\"Helvetica,sans-Serif\" font-size=\"14.00\" fill=\"#000000\">class = non functional</text>\n</g>\n<!-- 18604&#45;&gt;18644 -->\n<g id=\"edge28\" class=\"edge\">\n<title>18604&#45;&gt;18644</title>\n<path fill=\"none\" stroke=\"#000000\" d=\"M1635.3594,-175.9465C1659.8561,-165.7559 1686.8723,-154.5171 1711.9498,-144.0849\"/>\n<polygon fill=\"#000000\" stroke=\"#000000\" points=\"1713.5681,-147.2025 1721.4567,-140.13 1710.8794,-140.7394 1713.5681,-147.2025\"/>\n</g>\n<!-- 18606 -->\n<g id=\"node27\" class=\"node\">\n<title>18606</title>\n<path fill=\"#c0c0c0\" stroke=\"#000000\" d=\"M1532.5,-36C1532.5,-36 1502.5,-36 1502.5,-36 1496.5,-36 1490.5,-30 1490.5,-24 1490.5,-24 1490.5,-12 1490.5,-12 1490.5,-6 1496.5,0 1502.5,0 1502.5,0 1532.5,0 1532.5,0 1538.5,0 1544.5,-6 1544.5,-12 1544.5,-12 1544.5,-24 1544.5,-24 1544.5,-30 1538.5,-36 1532.5,-36\"/>\n<text text-anchor=\"middle\" x=\"1517.5\" y=\"-14.3\" font-family=\"Helvetica,sans-Serif\" font-size=\"14.00\" fill=\"#000000\">(...)</text>\n</g>\n<!-- 18605&#45;&gt;18606 -->\n<g id=\"edge26\" class=\"edge\">\n<title>18605&#45;&gt;18606</title>\n<path fill=\"none\" stroke=\"#000000\" d=\"M1539.5815,-71.9769C1535.9977,-63.2167 1532.1862,-53.8995 1528.7564,-45.5157\"/>\n<polygon fill=\"#000000\" stroke=\"#000000\" points=\"1531.968,-44.1222 1524.9422,-36.192 1525.4891,-46.7727 1531.968,-44.1222\"/>\n</g>\n<!-- 18607 -->\n<g id=\"node28\" class=\"node\">\n<title>18607</title>\n<path fill=\"#c0c0c0\" stroke=\"#000000\" d=\"M1604.5,-36C1604.5,-36 1574.5,-36 1574.5,-36 1568.5,-36 1562.5,-30 1562.5,-24 1562.5,-24 1562.5,-12 1562.5,-12 1562.5,-6 1568.5,0 1574.5,0 1574.5,0 1604.5,0 1604.5,0 1610.5,0 1616.5,-6 1616.5,-12 1616.5,-12 1616.5,-24 1616.5,-24 1616.5,-30 1610.5,-36 1604.5,-36\"/>\n<text text-anchor=\"middle\" x=\"1589.5\" y=\"-14.3\" font-family=\"Helvetica,sans-Serif\" font-size=\"14.00\" fill=\"#000000\">(...)</text>\n</g>\n<!-- 18605&#45;&gt;18607 -->\n<g id=\"edge27\" class=\"edge\">\n<title>18605&#45;&gt;18607</title>\n<path fill=\"none\" stroke=\"#000000\" d=\"M1567.4185,-71.9769C1571.0023,-63.2167 1574.8138,-53.8995 1578.2436,-45.5157\"/>\n<polygon fill=\"#000000\" stroke=\"#000000\" points=\"1581.5109,-46.7727 1582.0578,-36.192 1575.032,-44.1222 1581.5109,-46.7727\"/>\n</g>\n<!-- 18645 -->\n<g id=\"node30\" class=\"node\">\n<title>18645</title>\n<path fill=\"#c0c0c0\" stroke=\"#000000\" d=\"M1782.5,-36C1782.5,-36 1752.5,-36 1752.5,-36 1746.5,-36 1740.5,-30 1740.5,-24 1740.5,-24 1740.5,-12 1740.5,-12 1740.5,-6 1746.5,0 1752.5,0 1752.5,0 1782.5,0 1782.5,0 1788.5,0 1794.5,-6 1794.5,-12 1794.5,-12 1794.5,-24 1794.5,-24 1794.5,-30 1788.5,-36 1782.5,-36\"/>\n<text text-anchor=\"middle\" x=\"1767.5\" y=\"-14.3\" font-family=\"Helvetica,sans-Serif\" font-size=\"14.00\" fill=\"#000000\">(...)</text>\n</g>\n<!-- 18644&#45;&gt;18645 -->\n<g id=\"edge29\" class=\"edge\">\n<title>18644&#45;&gt;18645</title>\n<path fill=\"none\" stroke=\"#000000\" d=\"M1789.5815,-71.9769C1785.9977,-63.2167 1782.1862,-53.8995 1778.7564,-45.5157\"/>\n<polygon fill=\"#000000\" stroke=\"#000000\" points=\"1781.968,-44.1222 1774.9422,-36.192 1775.4891,-46.7727 1781.968,-44.1222\"/>\n</g>\n<!-- 18676 -->\n<g id=\"node31\" class=\"node\">\n<title>18676</title>\n<path fill=\"#c0c0c0\" stroke=\"#000000\" d=\"M1854.5,-36C1854.5,-36 1824.5,-36 1824.5,-36 1818.5,-36 1812.5,-30 1812.5,-24 1812.5,-24 1812.5,-12 1812.5,-12 1812.5,-6 1818.5,0 1824.5,0 1824.5,0 1854.5,0 1854.5,0 1860.5,0 1866.5,-6 1866.5,-12 1866.5,-12 1866.5,-24 1866.5,-24 1866.5,-30 1860.5,-36 1854.5,-36\"/>\n<text text-anchor=\"middle\" x=\"1839.5\" y=\"-14.3\" font-family=\"Helvetica,sans-Serif\" font-size=\"14.00\" fill=\"#000000\">(...)</text>\n</g>\n<!-- 18644&#45;&gt;18676 -->\n<g id=\"edge30\" class=\"edge\">\n<title>18644&#45;&gt;18676</title>\n<path fill=\"none\" stroke=\"#000000\" d=\"M1817.4185,-71.9769C1821.0023,-63.2167 1824.8138,-53.8995 1828.2436,-45.5157\"/>\n<polygon fill=\"#000000\" stroke=\"#000000\" points=\"1831.5109,-46.7727 1832.0578,-36.192 1825.032,-44.1222 1831.5109,-46.7727\"/>\n</g>\n</g>\n</svg>\n"
          },
          "metadata": {
            "tags": []
          }
        }
      ]
    },
    {
      "cell_type": "markdown",
      "metadata": {
        "id": "8rHf6M_TXlLM",
        "colab_type": "text"
      },
      "source": [
        "#**Kaggle Submission**"
      ]
    },
    {
      "cell_type": "code",
      "metadata": {
        "id": "v41HGAqusL6P",
        "colab_type": "code",
        "colab": {}
      },
      "source": [
        "y_pred = pipeline.predict(X_test)\n",
        "\n",
        "submission = sample_submission.copy()\n",
        "submission['status_group'] = y_pred\n",
        "submission.to_csv('submission.csv', index=False)"
      ],
      "execution_count": 0,
      "outputs": []
    }
  ]
}